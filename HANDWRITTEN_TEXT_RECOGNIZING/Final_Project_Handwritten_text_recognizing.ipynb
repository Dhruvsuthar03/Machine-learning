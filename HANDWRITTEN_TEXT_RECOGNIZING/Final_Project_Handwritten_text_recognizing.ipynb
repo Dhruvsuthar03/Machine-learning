{
  "nbformat": 4,
  "nbformat_minor": 0,
  "metadata": {
    "colab": {
      "provenance": []
    },
    "kernelspec": {
      "name": "python3",
      "display_name": "Python 3"
    },
    "accelerator": "GPU"
  },
  "cells": [
    {
      "cell_type": "markdown",
      "source": [
        "##IMPORT LIBRARIES"
      ],
      "metadata": {
        "id": "O1pWrDSviOY-"
      }
    },
    {
      "cell_type": "code",
      "metadata": {
        "id": "plN24uSYJxlq",
        "outputId": "dec29e35-5236-4a86-a3c7-8007ee77f140",
        "colab": {
          "base_uri": "https://localhost:8080/",
          "height": 383
        }
      },
      "source": [
        "from pathlib import Path\n",
        "import numpy as np\n",
        "import math\n",
        "from itertools import groupby\n",
        "import h5py\n",
        "import numpy as np\n",
        "import unicodedata\n",
        "import cv2\n",
        "import torch\n",
        "from torch import nn\n",
        "from torchvision.models import resnet50, resnet101\n",
        "from torch.autograd import Variable\n",
        "import torchvision\n",
        "from data import preproc as pp\n",
        "from data import evaluation\n",
        "from torch.utils.data import Dataset\n",
        "import time"
      ],
      "execution_count": null,
      "outputs": [
        {
          "output_type": "error",
          "ename": "ModuleNotFoundError",
          "evalue": "No module named 'data'",
          "traceback": [
            "\u001b[0;31m---------------------------------------------------------------------------\u001b[0m",
            "\u001b[0;31mModuleNotFoundError\u001b[0m                       Traceback (most recent call last)",
            "\u001b[0;32m<ipython-input-1-59a579d9e134>\u001b[0m in \u001b[0;36m<cell line: 14>\u001b[0;34m()\u001b[0m\n\u001b[1;32m     12\u001b[0m \u001b[0;32mfrom\u001b[0m \u001b[0mtorch\u001b[0m\u001b[0;34m.\u001b[0m\u001b[0mautograd\u001b[0m \u001b[0;32mimport\u001b[0m \u001b[0mVariable\u001b[0m\u001b[0;34m\u001b[0m\u001b[0;34m\u001b[0m\u001b[0m\n\u001b[1;32m     13\u001b[0m \u001b[0;32mimport\u001b[0m \u001b[0mtorchvision\u001b[0m\u001b[0;34m\u001b[0m\u001b[0;34m\u001b[0m\u001b[0m\n\u001b[0;32m---> 14\u001b[0;31m \u001b[0;32mfrom\u001b[0m \u001b[0mdata\u001b[0m \u001b[0;32mimport\u001b[0m \u001b[0mpreproc\u001b[0m \u001b[0;32mas\u001b[0m \u001b[0mpp\u001b[0m\u001b[0;34m\u001b[0m\u001b[0;34m\u001b[0m\u001b[0m\n\u001b[0m\u001b[1;32m     15\u001b[0m \u001b[0;32mfrom\u001b[0m \u001b[0mdata\u001b[0m \u001b[0;32mimport\u001b[0m \u001b[0mevaluation\u001b[0m\u001b[0;34m\u001b[0m\u001b[0;34m\u001b[0m\u001b[0m\n\u001b[1;32m     16\u001b[0m \u001b[0;32mfrom\u001b[0m \u001b[0mtorch\u001b[0m\u001b[0;34m.\u001b[0m\u001b[0mutils\u001b[0m\u001b[0;34m.\u001b[0m\u001b[0mdata\u001b[0m \u001b[0;32mimport\u001b[0m \u001b[0mDataset\u001b[0m\u001b[0;34m\u001b[0m\u001b[0;34m\u001b[0m\u001b[0m\n",
            "\u001b[0;31mModuleNotFoundError\u001b[0m: No module named 'data'",
            "",
            "\u001b[0;31m---------------------------------------------------------------------------\u001b[0;32m\nNOTE: If your import is failing due to a missing package, you can\nmanually install dependencies using either !pip or !apt.\n\nTo view examples of installing some common dependencies, click the\n\"Open Examples\" button below.\n\u001b[0;31m---------------------------------------------------------------------------\u001b[0m\n"
          ],
          "errorDetails": {
            "actions": [
              {
                "action": "open_url",
                "actionText": "Open Examples",
                "url": "/notebooks/snippets/importing_libraries.ipynb"
              }
            ]
          }
        }
      ]
    },
    {
      "cell_type": "markdown",
      "source": [
        "#OCR MODEL\n",
        "\n",
        "OCR model implementation in PyTorch with ResNet-101 and Transformer networks\n",
        "\n",
        "\n",
        "#ResNet-101 backbone:\n",
        "\n",
        "This is a convolutional neural network used to extract features from the input image.\n",
        "Conversion layer: this is a convolutional layer that converts the feature maps produced by the ResNet-101 backbone to a lower-dimensional representation that can be input to the transformer.\n",
        "\n",
        "#Positional Encoding:\n",
        "\n",
        "The result module generates a tensor of positional encodings for the transformer model. This tensor contains information about the position of each token in the input sequence.\n",
        "\n",
        "The positional encodings are generated using a combination of sine and cosine functions.\n",
        "\n",
        "#CNN:\n",
        "\n",
        "The CNN is used to extract features from the input image and reduce its dimensions, while the transformer is used to generate the output sequence of characters.\n",
        "\n",
        "\n"
      ],
      "metadata": {
        "id": "Amhz7pqEisPu"
      }
    },
    {
      "cell_type": "code",
      "metadata": {
        "id": "j9q2nn8lVTz_"
      },
      "source": [
        "\n",
        "class result(nn.Module):\n",
        "    def __init__(self, d_model, dropout=0.1, max_len=128):\n",
        "        super(result, self).__init__()\n",
        "        self.dropout = nn.Dropout(p=dropout)\n",
        "\n",
        "        data = torch.zeros(max_len, d_model)\n",
        "        position = torch.arange(0, max_len, dtype=torch.float).unsqueeze(1)\n",
        "        div_term = torch.exp(torch.arange(0, d_model, 2).float() * (-math.log(10000.0) / d_model))\n",
        "        data[:, 0::2] = torch.sin(position * div_term)\n",
        "        data[:, 1::2] = torch.cos(position * div_term)\n",
        "        data = data.unsqueeze(0).transpose(0, 1)\n",
        "        self.register_buffer('data', data)\n",
        "\n",
        "    def forward(self, x):\n",
        "        x = x + self.data[:x.size(0), :]\n",
        "        return self.dropout(x)\n",
        "\n",
        "\n",
        "class OCR(nn.Module):\n",
        "\n",
        "    def __init__(self, vocab_len, hidden_dim, nheads,\n",
        "                 num_encoder_layers, num_decoder_layers):\n",
        "        super().__init__()\n",
        "\n",
        "        # create ResNet-101 backbone\n",
        "        self.backbone = resnet101()\n",
        "        del self.backbone.fc\n",
        "\n",
        "        # create conversion layer\n",
        "        self.conv = nn.Conv2d(2048, hidden_dim, 1)\n",
        "\n",
        "        # create a default PyTorch transformer\n",
        "        self.transformer = nn.Transformer(\n",
        "            hidden_dim, nheads, num_encoder_layers, num_decoder_layers)\n",
        "\n",
        "        # prediction heads with length of vocab\n",
        "\n",
        "        self.vocab = nn.Linear(hidden_dim,vocab_len)\n",
        "\n",
        "        # output positional encodings (object queries)\n",
        "        self.decoder = nn.Embedding(vocab_len, hidden_dim)\n",
        "        self.query_pos = result(hidden_dim, .2)\n",
        "\n",
        "        # spatial positional encodings, sine positional encoding can be used.\n",
        "        self.row_embed = nn.Parameter(torch.rand(50, hidden_dim // 2))\n",
        "        self.col_embed = nn.Parameter(torch.rand(50, hidden_dim // 2))\n",
        "        self.trg_mask = None\n",
        "\n",
        "    def position(self, sz):\n",
        "        A = torch.triu(torch.ones(sz, sz), 1)\n",
        "        A = A.masked_fill(A==1, float('-inf'))\n",
        "        return A\n",
        "\n",
        "    def get_feature(self,x):\n",
        "        x = self.backbone.conv1(x)\n",
        "        x = self.backbone.bn1(x)\n",
        "        x = self.backbone.relu(x)\n",
        "        x = self.backbone.maxpool(x)\n",
        "\n",
        "        x = self.backbone.layer1(x)\n",
        "        x = self.backbone.layer2(x)\n",
        "        x = self.backbone.layer3(x)\n",
        "        x = self.backbone.layer4(x)\n",
        "        return x\n",
        "\n",
        "\n",
        "    def length(self, inp):\n",
        "        return (inp == 0).transpose(0, 1)\n",
        "\n",
        "\n",
        "    def forward(self, inputs, C):\n",
        "        # propagate inputs through ResNet-101 up to avg-pool layer\n",
        "        x = self.get_feature(inputs)\n",
        "\n",
        "        # convert from 2048 to 256 feature planes for the transformer\n",
        "        h = self.conv(x)\n",
        "\n",
        "        # construct positional encodings\n",
        "        bs,_,H, W = h.shape\n",
        "        pos = torch.cat([\n",
        "            self.col_embed[:W].unsqueeze(0).repeat(H, 1, 1),\n",
        "            self.row_embed[:H].unsqueeze(1).repeat(1, W, 1),\n",
        "        ], dim=-1).flatten(0, 1).unsqueeze(1)\n",
        "\n",
        "        # generating subsequent mask for target\n",
        "        if self.trg_mask is None or self.trg_mask.size(0) != len(C):\n",
        "            self.trg_mask = self.position(C.shape[1]).to(C.device)\n",
        "\n",
        "        # Padding mask\n",
        "        B = self.length(C)\n",
        "\n",
        "        # Getting postional encoding for target\n",
        "        C = self.decoder(C)\n",
        "        C = self.query_pos(C)\n",
        "\n",
        "        output = self.transformer(pos + 0.1 * h.flatten(2).permute(2, 0, 1), C.permute(1,0,2), tgt_mask=self.trg_mask,\n",
        "                                  tgt_key_padding_mask=B.permute(1,0))\n",
        "\n",
        "        return self.vocab(output.transpose(0,1))\n",
        "\n",
        "\n",
        "def make_model(vocab_len, hidden_dim=256, nheads=4,\n",
        "                 num_encoder_layers=4, num_decoder_layers=4):\n",
        "\n",
        "    return OCR(vocab_len, hidden_dim, nheads,\n",
        "                 num_encoder_layers, num_decoder_layers)"
      ],
      "execution_count": null,
      "outputs": []
    },
    {
      "cell_type": "markdown",
      "source": [
        "#ENCODING AND DECODING\n",
        "\n",
        "Using the Tokenizer class for text encoding and decoding, this dataset contains both text and image data.\n",
        "\n",
        "#Mask:\n",
        "\n",
        "\n",
        "The masks help the model focus on relevant information and ignore irrelevant information during training.\n",
        "\n",
        "#Tokens:\n",
        "\n",
        "We add some Token to understand the machine and perform some task.\n"
      ],
      "metadata": {
        "id": "awsAocoWjL6f"
      }
    },
    {
      "cell_type": "code",
      "metadata": {
        "id": "XaQVki4lVTu2"
      },
      "source": [
        "\n",
        "\n",
        "class DataGenerator(Dataset):\n",
        "\n",
        "\n",
        "    def __init__(self, source,charset, max_text_length, split, transform):\n",
        "        self.tokenizer = Tokenizer(charset, max_text_length)\n",
        "        self.transform = transform\n",
        "\n",
        "        self.split = split\n",
        "        self.dataset = dict()\n",
        "\n",
        "        with h5py.File(source, \"r\") as f:\n",
        "            self.dataset[self.split] = dict()\n",
        "\n",
        "            self.dataset[self.split]['dt'] = np.array(f[self.split]['dt'])\n",
        "            self.dataset[self.split]['gt'] = np.array(f[self.split]['gt'])\n",
        "\n",
        "            randomize = np.arange(len(self.dataset[self.split]['gt']))\n",
        "            np.random.seed(42)\n",
        "            np.random.shuffle(randomize)\n",
        "\n",
        "            self.dataset[self.split]['dt'] = self.dataset[self.split]['dt'][randomize]\n",
        "            self.dataset[self.split]['gt'] = self.dataset[self.split]['gt'][randomize]\n",
        "\n",
        "            # decode sentences from byte\n",
        "            self.dataset[self.split]['gt'] = [x.decode() for x in self.dataset[self.split]['gt']]\n",
        "\n",
        "        self.size = len(self.dataset[self.split]['gt'])\n",
        "\n",
        "\n",
        "    def __getitem__(self, i):\n",
        "        img = self.dataset[self.split]['dt'][i]\n",
        "\n",
        "        #making image compatible with resnet\n",
        "        img = np.repeat(img[..., np.newaxis],3, -1)\n",
        "        img = pp.normalization(img)\n",
        "\n",
        "        if self.transform is not None:\n",
        "            img = self.transform(img)\n",
        "\n",
        "        y_train = self.tokenizer.encode(self.dataset[self.split]['gt'][i])\n",
        "\n",
        "        #padding till max length\n",
        "        y_train = np.pad(y_train, (0, self.tokenizer.maxlen - len(y_train)))\n",
        "\n",
        "        gt = torch.Tensor(y_train)\n",
        "\n",
        "        return img, gt\n",
        "\n",
        "    def __len__(self):\n",
        "      return self.size\n",
        "\n",
        "\n",
        "\n",
        "class Tokenizer():\n",
        "    \"\"\"Manager tokens functions and charset/dictionary properties\"\"\"\n",
        "\n",
        "    def __init__(self, chars, max_text_length=128):\n",
        "        self.PAD_TK, self.UNK_TK,self.SOS,self.EOS = \"¶\", \"¤\", \"SOS\", \"EOS\"\n",
        "        self.chars = [self.PAD_TK] + [self.UNK_TK ]+ [self.SOS] + [self.EOS] +list(chars)\n",
        "        self.PAD = self.chars.index(self.PAD_TK)\n",
        "        self.UNK = self.chars.index(self.UNK_TK)\n",
        "\n",
        "        self.vocab_size = len(self.chars)\n",
        "        self.maxlen = max_text_length\n",
        "\n",
        "    def encode(self, text):\n",
        "        \"\"\"Encode text to vector\"\"\"\n",
        "\n",
        "        text = unicodedata.normalize(\"NFKD\", text).encode(\"ASCII\", \"ignore\").decode(\"ASCII\")\n",
        "        text = \" \".join(text.split())\n",
        "\n",
        "        groups = [\"\".join(group) for _, group in groupby(text)]\n",
        "        text = \"\".join([self.UNK_TK.join(list(x)) if len(x) > 1 else x for x in groups])\n",
        "        encoded = []\n",
        "\n",
        "        text = ['SOS'] + list(text) + ['EOS']\n",
        "        for item in text:\n",
        "            index = self.chars.index(item)\n",
        "            index = self.UNK if index == -1 else index\n",
        "            encoded.append(index)\n",
        "\n",
        "        return np.asarray(encoded)\n",
        "\n",
        "    def decode(self, text):\n",
        "        \"\"\"Decode vector to text\"\"\"\n",
        "\n",
        "        decoded = \"\".join([self.chars[int(x)] for x in text if x > -1])\n",
        "        decoded = self.remove_tokens(decoded)\n",
        "        decoded = pp.text_standardize(decoded)\n",
        "\n",
        "        return decoded\n",
        "\n",
        "    def remove_tokens(self, text):\n",
        "        \"\"\"Remove tokens (PAD) from text\"\"\"\n",
        "\n",
        "        return text.replace(self.PAD_TK, \"\").replace(self.UNK_TK, \"\")\n",
        "\n"
      ],
      "execution_count": null,
      "outputs": []
    },
    {
      "cell_type": "markdown",
      "source": [
        "#DOWNLOAD IMAGE DATASET\n",
        "\n",
        "Dataset name:Bentham dataset\n",
        "This command-line programme downloads a file from Google Drive called \"bentham.hdf5\" Wget is used to download the file, and a cookie file is used to get the download link. This script's objective is to download the handwriting recognition dataset.\n",
        "\n"
      ],
      "metadata": {
        "id": "qKc56U-bj9CP"
      }
    },
    {
      "cell_type": "code",
      "metadata": {
        "id": "7Q8dFFAGGzCC"
      },
      "source": [
        "#bentham data set download link\n",
        "\n",
        "!wget --load-cookies /tmp/cookies.txt \"https://docs.google.com/uc?export=download&confirm=$(wget --quiet --save-cookies /tmp/cookies.txt --keep-session-cookies --no-check-certificate 'https://docs.google.com/uc?export=download&id=1-PqlAml3vKzWknITlC3jaoFNu5rKyFbr' -O- | sed -rn 's/.*confirm=([0-9A-Za-z_]+).*/\\1\\n/p')&id=1-PqlAml3vKzWknITlC3jaoFNu5rKyFbr\" -O bentham.hdf5 && rm -rf /tmp/cookies.txt\n"
      ],
      "execution_count": null,
      "outputs": []
    },
    {
      "cell_type": "markdown",
      "source": [
        "#FIND PATH"
      ],
      "metadata": {
        "id": "sqUPdR_rkSnz"
      }
    },
    {
      "cell_type": "code",
      "source": [
        "!pwd"
      ],
      "metadata": {
        "id": "q8vGEcLtJdD4"
      },
      "execution_count": null,
      "outputs": []
    },
    {
      "cell_type": "code",
      "metadata": {
        "id": "LtAejdzcVTq6"
      },
      "source": [
        "import os\n",
        "import datetime\n",
        "import string\n",
        "\n",
        "batch_size = 16\n",
        "epochs = 200\n",
        "\n",
        "# define paths\n",
        "#change paths accordingly\n",
        "source = 'bentham'\n",
        "source_path = '/content/Transformer-ocr/src/Transformer-ocr/src/{}.hdf5'.format(source)\n",
        "output_path = os.path.join(\"..\", \"output\", source)\n",
        "target_path = os.path.join(output_path, \"checkpoint_weights_iam.hdf5\")\n",
        "os.makedirs(output_path, exist_ok=True)\n",
        "\n",
        "# define input size, number max of chars per line and list of valid chars\n",
        "input_size = (1024, 128, 1)\n",
        "max_text_length = 128\n",
        "charset_base = string.printable[:95]\n",
        "\n",
        "print(\"source:\", source_path)\n",
        "print(\"output\", output_path)\n",
        "print(\"target\", target_path)\n",
        "print(\"charset:\", charset_base)"
      ],
      "execution_count": null,
      "outputs": []
    },
    {
      "cell_type": "markdown",
      "source": [],
      "metadata": {
        "id": "ty9rN7aoigLE"
      }
    },
    {
      "cell_type": "code",
      "metadata": {
        "id": "RjpY7taeXFo3"
      },
      "source": [
        "import torchvision.transforms as T\n",
        "\n",
        "device = torch.device(\"cuda\")\n",
        "transform = T.Compose([\n",
        "    T.ToTensor()])\n",
        "tokenizer = Tokenizer(charset_base)\n",
        "\n",
        "train_loader = torch.utils.data.DataLoader(DataGenerator(source_path,charset_base,max_text_length,'train',transform), batch_size=batch_size, shuffle=False, num_workers=2)\n",
        "val_loader = torch.utils.data.DataLoader(DataGenerator(source_path,charset_base,max_text_length,'valid',transform), batch_size=batch_size, shuffle=False, num_workers=2)\n"
      ],
      "execution_count": null,
      "outputs": []
    },
    {
      "cell_type": "code",
      "metadata": {
        "id": "e-JpqDAGXFyN"
      },
      "source": [
        "model = make_model(vocab_len=tokenizer.vocab_size)\n",
        "_=model.to(device)"
      ],
      "execution_count": null,
      "outputs": []
    },
    {
      "cell_type": "markdown",
      "source": [
        "#LABEL SMOOTHING\n",
        "\n",
        "Label smoothing is a technique used in machine learning to prevent a neural network from becoming overconfident in its predictions. It involves replacing the hard target labels (e.g., 0 or 1) with a smoothed distribution over all the possible labels. This encourages the model to learn more generalizable features and can improve its performance on unseen data.\n"
      ],
      "metadata": {
        "id": "nHQN7VUglLK6"
      }
    },
    {
      "cell_type": "code",
      "metadata": {
        "id": "YsZBpkAlXF4i"
      },
      "source": [
        "class label(nn.Module):\n",
        "    \"Implement label smoothing.\"\n",
        "    def __init__(self, size, padding_idx=0, smoothing=0.0):\n",
        "        super(label, self).__init__()\n",
        "        self.find = nn.KLDivLoss(size_average=False)\n",
        "        self.padding_idx = padding_idx\n",
        "        self.confidence = 1.0 - smoothing\n",
        "        self.smoothing = smoothing\n",
        "        self.size = size\n",
        "        self.true_dist = None\n",
        "\n",
        "    def forward(self, x, target):\n",
        "        assert x.size(1) == self.size\n",
        "        true_dist = x.data.clone()\n",
        "        true_dist.fill_(self.smoothing / (self.size - 2))\n",
        "        true_dist.scatter_(1, target.data.unsqueeze(1), self.confidence)\n",
        "        true_dist[:, self.padding_idx] = 0\n",
        "        A = torch.nonzero(target.data == self.padding_idx)\n",
        "        if A.dim() > 0:\n",
        "            true_dist.index_fill_(0, A.squeeze(), 0.0)\n",
        "        self.true_dist = true_dist\n",
        "        return self.find(x, Variable(true_dist, requires_grad=False))\n"
      ],
      "execution_count": null,
      "outputs": []
    },
    {
      "cell_type": "markdown",
      "source": [
        "#Initializing training parameters for a language model."
      ],
      "metadata": {
        "id": "DIIS-vzAmE97"
      }
    },
    {
      "cell_type": "code",
      "metadata": {
        "id": "ZnUtbtBzaapw"
      },
      "source": [
        "find = label(size=tokenizer.vocab_size, padding_idx=0, smoothing=0.1)\n",
        "find.to(device)\n",
        "lr = .0001 # learning rate\n",
        "optimizer = torch.optim.AdamW(model.parameters(), lr=lr,weight_decay=.0004)\n",
        "scheduler = torch.optim.lr_scheduler.StepLR(optimizer, 1, gamma=0.95)\n"
      ],
      "execution_count": null,
      "outputs": []
    },
    {
      "cell_type": "markdown",
      "source": [
        "#TRAINING AND EVALUATION\n",
        "\n",
        "The **train function** executes the training on the supplied data using the model, optimizer, scheduler, and data loader as inputs. Gradient clipping is used to prevent gradient explosion while the Kullback-Leibler Divergence loss (KLDivLoss) with label smoothing is used to calculate the loss. The average loss per batch is returned.\n",
        "\n",
        "\n",
        "The evaluate function evaluates the supplied data after receiving the model and data loader as inputs. It determines the loss by applying label smoothing to the KLDivLoss and returns the average loss per batch.\n",
        "\n",
        "\n"
      ],
      "metadata": {
        "id": "G6H_-8bsmcAK"
      }
    },
    {
      "cell_type": "code",
      "metadata": {
        "id": "1sMUbO8oabUd"
      },
      "source": [
        "def train(model, find, optimiser, scheduler,dataloader):\n",
        "\n",
        "    model.train()\n",
        "    total_loss = 0\n",
        "    for batch, (imgs, labels_y,) in enumerate(dataloader):\n",
        "          imgs = imgs.to(device)\n",
        "          labels_y = labels_y.to(device)\n",
        "\n",
        "          optimiser.zero_grad()\n",
        "          output = model(imgs.float(),labels_y.long()[:,:-1])\n",
        "\n",
        "          norm = (labels_y != 0).sum()\n",
        "          loss = find(output.log_softmax(-1).contiguous().view(-1, tokenizer.vocab_size), labels_y[:,1:].contiguous().view(-1).long()) / norm\n",
        "\n",
        "          loss.backward()\n",
        "          torch.nn.utils.clip_grad_norm_(model.parameters(), 0.2)\n",
        "          optimizer.step()\n",
        "          total_loss += loss.item() * norm\n",
        "\n",
        "    return total_loss / len(dataloader)\n",
        "\n",
        "def evaluate(model, find, dataloader,):\n",
        "\n",
        "    model.eval()\n",
        "    epoch_loss = 0\n",
        "\n",
        "    with torch.no_grad():\n",
        "      for batch, (imgs, labels_y,) in enumerate(dataloader):\n",
        "            imgs = imgs.to(device)\n",
        "            labels_y = labels_y.to(device)\n",
        "\n",
        "            output = model(imgs.float(),labels_y.long()[:,:-1])\n",
        "\n",
        "            norm = (labels_y != 0).sum()\n",
        "            loss = find(output.log_softmax(-1).contiguous().view(-1, tokenizer.vocab_size), labels_y[:,1:].contiguous().view(-1).long()) / norm\n",
        "\n",
        "            epoch_loss += loss.item() * norm\n",
        "\n",
        "    return epoch_loss / len(dataloader)"
      ],
      "execution_count": null,
      "outputs": []
    },
    {
      "cell_type": "markdown",
      "source": [
        "#TRAIN THE MODEL"
      ],
      "metadata": {
        "id": "zeVJ0ge2m-XV"
      }
    },
    {
      "cell_type": "code",
      "metadata": {
        "id": "Tr85q5Q6abfY"
      },
      "source": [
        "#train model\n",
        "\n",
        "def epoch_time(start_time, end_time):\n",
        "    elapsed_time = end_time - start_time\n",
        "    elapsed_mins = int(elapsed_time / 60)\n",
        "    elapsed_secs = int(elapsed_time - (elapsed_mins * 60))\n",
        "    return elapsed_mins, elapsed_secs\n",
        "\n",
        "best_valid_loss = np.inf\n",
        "c = 0\n",
        "for epoch in range(10):\n",
        "\n",
        "    print(f'Epoch: {epoch+1:02}','learning rate{}'.format(scheduler.get_last_lr()))\n",
        "\n",
        "    start_time = time.time()\n",
        "\n",
        "    train_loss = train(model,find, optimizer, scheduler, train_loader)\n",
        "    valid_loss = evaluate(model, find, val_loader)\n",
        "\n",
        "    epoch_mins, epoch_secs = epoch_time(start_time, time.time())\n",
        "\n",
        "    c+=1\n",
        "    if valid_loss < best_valid_loss:\n",
        "        best_valid_loss = valid_loss\n",
        "        torch.save(model.state_dict(), target_path)\n",
        "        c=0\n",
        "\n",
        "    if c>4:\n",
        "        #decrease lr if loss does not deacrease after 5 steps\n",
        "        scheduler.step()\n",
        "        c=0\n",
        "\n",
        "    print(f'Time: {epoch_mins}m {epoch_secs}s')\n",
        "    print(f'Train Loss: {train_loss:.3f}')\n",
        "    print(f'Val   Loss: {valid_loss:.3f}')"
      ],
      "execution_count": null,
      "outputs": []
    },
    {
      "cell_type": "markdown",
      "metadata": {
        "id": "idexEgfnhEqu"
      },
      "source": [
        "You can download the trained model and run inference on it.\n",
        "Below link downloads the model. Once model is downloaded you can move it to your google storage."
      ]
    },
    {
      "cell_type": "markdown",
      "source": [
        "###Function for generating memory from input images using a convolutional neural network and a transformer encoder."
      ],
      "metadata": {
        "id": "g8C641uWnQNw"
      }
    },
    {
      "cell_type": "code",
      "metadata": {
        "id": "wLO1cpXubZlA"
      },
      "source": [
        "def get_memory(model,imgs):\n",
        "    x = model.conv(model.get_feature(imgs))\n",
        "    bs,_,H, W = x.shape\n",
        "    pos = torch.cat([\n",
        "            model.col_embed[:W].unsqueeze(0).repeat(H, 1, 1),\n",
        "            model.row_embed[:H].unsqueeze(1).repeat(1, W, 1),\n",
        "        ], dim=-1).flatten(0, 1).unsqueeze(1)\n",
        "\n",
        "    return model.transformer.encoder(pos +  0.1 * x.flatten(2).permute(2, 0, 1))\n"
      ],
      "execution_count": null,
      "outputs": []
    },
    {
      "cell_type": "markdown",
      "source": [
        "##PREDICT THE DATASET"
      ],
      "metadata": {
        "id": "ESmxpUXinshJ"
      }
    },
    {
      "cell_type": "code",
      "metadata": {
        "id": "mOXEHch5iATb"
      },
      "source": [
        "def test(model, test_loader, max_text_length):\n",
        "    model.eval()\n",
        "    predicts = []\n",
        "    gt = []\n",
        "    imgs = []\n",
        "    with torch.no_grad():\n",
        "        for batch in test_loader:\n",
        "            src, C = batch\n",
        "            imgs.append(src.flatten(0,1))\n",
        "            src, C = src.cuda(), C.cuda()\n",
        "            memory = get_memory(model,src.float())\n",
        "            out_indexes = [tokenizer.chars.index('SOS'), ]\n",
        "            for i in range(max_text_length):\n",
        "                A = model.position(i+1).to('cuda')\n",
        "                trg_tensor = torch.LongTensor(out_indexes).unsqueeze(1).to(device)\n",
        "                output = model.vocab(model.transformer.decoder(model.query_pos(model.decoder(trg_tensor)), memory,tgt_mask=A))\n",
        "                out_token = output.argmax(2)[-1].item()\n",
        "                out_indexes.append(out_token)\n",
        "                if out_token == tokenizer.chars.index('EOS'):\n",
        "                    break\n",
        "            predicts.append(tokenizer.decode(out_indexes))\n",
        "            gt.append(tokenizer.decode(C.flatten(0,1)))\n",
        "    return predicts, gt, imgs\n"
      ],
      "execution_count": null,
      "outputs": []
    },
    {
      "cell_type": "code",
      "metadata": {
        "id": "LHEnhenuiAnb"
      },
      "source": [
        "test_loader = torch.utils.data.DataLoader(DataGenerator(source_path,charset_base,max_text_length,'test',transform), batch_size=1, shuffle=False, num_workers=2)\n",
        "predicts, gt, imgs = test(model, test_loader, max_text_length)\n",
        "\n",
        "predicts = list(map(lambda x : x.replace('SOS','').replace('EOS',''),predicts))\n",
        "gt = list(map(lambda x : x.replace('SOS','').replace('EOS',''),gt))"
      ],
      "execution_count": null,
      "outputs": []
    },
    {
      "cell_type": "code",
      "metadata": {
        "id": "_TdHQzuxVX4B"
      },
      "source": [
        "evaluate = evaluation.ocr_metrics(predicts=predicts,\n",
        "                                  ground_truth=gt,)\n",
        "\n",
        "print(\"Calculate Character Error Rate {}, Word Error Rate {} and Sequence Error Rate {}\".format(evaluate[0],evaluate[1],evaluate[2]))"
      ],
      "execution_count": null,
      "outputs": []
    },
    {
      "cell_type": "markdown",
      "source": [
        "#RESULT"
      ],
      "metadata": {
        "id": "6DQuE-FAn2aB"
      }
    },
    {
      "cell_type": "code",
      "metadata": {
        "id": "rQew0_CkacDU"
      },
      "source": [
        "from data import preproc as pp\n",
        "from google.colab.patches import cv2_imshow\n",
        "\n",
        "for i, item in enumerate(imgs[:10]):\n",
        "    print(\"=\" * 1024, \"\\n\")\n",
        "    img = item.permute(1,2,0).cpu().numpy().astype(np.uint8)\n",
        "    img = cv2.cvtColor(img, cv2.COLOR_BGR2GRAY)\n",
        "\n",
        "    cv2_imshow(pp.adjust_to_see(img))\n",
        "    print(\"Ground truth:\",gt[i])\n",
        "    print(\"Prediction :\", predicts[i], \"\\n\")"
      ],
      "execution_count": null,
      "outputs": []
    },
    {
      "cell_type": "markdown",
      "source": [
        "![electronics-10-00904-g002.webp](data:image/webp;base64,UklGRsR+AABXRUJQVlA4TLd+AAAvasi+AidAkG0zjLkN/TDXIMw2Gs78kSZxzyPIttn8ISZ2l89/AP8rabYhMWjbRtAc/qy3+6cQERNQ+opqnqoOZ6eiSNHb2W3uwjfv/qGQvlJlF2ag99z2UTND0SYomOmEml2INu253VWyQ0+qD4Shcz46y8OuXwilpHNRhYcDs5unOfPwrmsGvaGgvCuz5omZ+VYzlbNtRidUocwz1KdxV9/Ku32Fbu2ZGfes+WTVzPSJClW817abt7ZtbUAGYCjPRwgn/6BsovcOkKI9JK89I/pPi7ZtIW21Hj5qG9O9z/VsrgZMYpp8UKxtLYhzQQfeNzbwvw5cpgFX7L+oRD6NA8i9fKMR/adF21bYNtoSlZ8rVIQnqpM+bDeu5sO3JEmWJEm2VfUJ1vElDvH/X9cVN3cVZhJWdZOI/tOCbbVuLG3DYLiy5+HIUnpE7Dhpf1xnxhTHf8Z/xn/Gf8Z/nrJMs4KnV3ubNTyhuc0ivtzaJhWXWtt8KrzI5luHcPZeMeXIV8R1+l6lI3+LM499MxuTq+hrTNx2xeSTXEVfY6LwYtItDkiuoq8xccetgzaTilejzSziYoPdVswHm02NsNeKOSG5ir7GxI1WzAzJVfQ1JkotJt3ih+Qq+hoT99g6HLHFxq7TZhZxMcX+KuaKzaXXZYvNVcwYyVX0NSbqKybdYo3kKvoaE8UVk25xR3IVfY2Ju2od/thUY9dpM4u4WGRHFfPIhhq7bpLtVMwmydWvvmOiomLRVaMkV7/6jolyikVXvZJc/eo7Ju6jdbiF5RZ3M1FNCYsNvC6ozfa1/9AvZheWzYSZRXc8mMKC8FlRm90D+yOfDONhi7uB/y6/NtPE7BQdmqsVtdm99J/4xRzjopnw/KvzMJWjoHM9ZqdhGvwPvO+6ZZQ1Ey9puw+ERwnzBXBXW7JBHT7ui5lGRd9yIf7CZ/4GuyhEH82EmcWZGDV8g2Idh/Hiw55sI6FvKYGdvF+PNRfbnc/6Yr5R0Ew4wWGr+rFwLBSZ9qPh5zo5R0DfUg4b1eFCLL3XFGFHw471Ytap30xkhFOdvFN9ixvDz4gB/Gi4HerFzFO8mYgJRzrZp/YWt4YdEUfY0TA70Yv5p3IzkRQO9LsAKNxMmMPPiAH8TKCaHOeEgLp9S3fYEXGEHQ0zO82LMaBsM+EOPyMG8KPhLw5zgkDRvuXyWKSrOcqE6pHx6aBXQcqyt4a4MXIwiaQeL9VF0pbq2oYbvh2U/gIDuL0Qak5s6wbbqmzMmcV0g6d0NYDXGYrooKjVKFCzmViel4LcA2Lzm/HusdQwNSnAwmwriWe+LOVktoaYbQhAD4W6EG1UHXRFFESOiOQOhrfl9MkSUZlYzXXb6li84FVGyiQn77EiVwPRCaoJM8kdlFNw8/0WXxisgOcK7oUcbqQfaaKpvzQxA3MQ5JjggEcrEsAlQnUplZH2acDANFQZ5ApPhgzWxhEGoDVXbGunPLYAJVMEaTEbY1cDzYkBkCSTHBSzGg8M9C1pihjAaBigrsZKmD4HG1huD25usXI5vxJoK68hbMWzcqWMBjsaRxNuWWgPZWfSn2oDwwyWSSiiYls8ZbN6ldEVIqgTdjWQnWC7SZLioJTChCpbfG3QA3OBjSHcLJLeGS50EyQ1ipYvIslxgWk7LgM26UpdSBnJxhxs87NeFfS4Xqmm5kVozZltVjelAEqVsyRkDjiZoFcDwQnHkyTFQSGrIUF631JqV7ARHLMCCa2bcFckuQUGZwwdt+xCAm3S1bqYom149ifhBFD+rKyAVHPFtrQGKFVWx3UiXCE7KYCvWcxBEQULwrc4b1fY+cJV3nGgzCiSiAPqTwOknAgog5p9BiQX6mIm2OLh6QQhRD2yHi8g1ZzZLhOsyuKQg4ie9NAyy05gkeFQMgclrEaFGn3LSqBrNVIl8+penSGDdLaBXAjATXoFVNAiwLPCLLaV8UawLZ1HKFUuEFMsqVeDUQBXmzko4FouVGgm6qApKCJ0/igS7QBZCEWJQCGHUnsqmVbCJhlVpJormSbUDQ4HrXKBpNEGpe7EAkIc5F/AUKFvqQgaBhK4QSte4nKYwpAwnrn9WCfeStZfxasEcFDCamQo0EwoxRqxYxELsWZemhBjPWUnLlJEIcP6fUsJgHZsgPwnGdwWoS6VRBOrEBVGC7Tm3ahVTiEjEFDn4BTGGZUEEShgNSrU6FvqAHbtBhjQOXaB1WUdnvE4AOyaQWFlXkf+BTffb3Ep4K4shEGTQXtL3hezFdjMe+/2NUg1L+OtuNUA2ViCSkpkvxoYCvQttYBkrAEL9Q1hdWlnZOwoED0OUfSvI/fChtW3uBZgTyJsEWBnSI9tYHWpYFXyENg4CW8NHFbmdWS+GhqW71sKAXcH7G5M9ICmENuB67KImPGDgE8EfjoIj2+jdFi8mVAC7g4Nr0MzY+wHrEs3WJ/HUYAnBj0tJefV6LB231ILsDvENHAYDz1khTa2AdVlMUmMxypiK1DMUNipD5PIeDU+rNxMaOKlQOiCLKgO1OWxIaAu3TAJNi6GaShbAQ1QZoZ1k20BxMp9y7LUFUgdmgStwIZvBKjLFsSwc2AWAmS9mFxXI8TCfUtR4EBhbW7RiM2pMCZiM17SVxJzFXxiXA5XyHkkgNcVvIVMCyKW7VuqwjGw6YzJKA7M3ngXIeGLEWveAAkeFavhmLITImlEIs/VGLFq31IZg2NhpEkIpuK5E8P2Y6wlizdvR6x5mdFFlOCGSzjGMzkWTiy5xXVhCq71YJlAD5JhYy+sBS9gw9Cjhq0jWsG2Q8SLGEZxwjGFDFfDxJJ9S7FYFHtQfUEbl0ZxhTJqHWLNjwMWPBL5FVKst8V1ktcSUQe063EAjb2SaAWq2gDBiYIJZLcaKBbsW6rFIEpbWKgeEXExgFsEqRdidKPVvAJRmUN/PXUnBq9bgMxy11mxXDMhDtTQNaA63eOWsLpUMZmxDrHmLYAB1UHJThHKzJ0oIA+RyWs1VqzWt9SJTbh4jbfcMmYq2M+o4NGMVhcRR5nGAQqjD4NlYjWvw1SGDC1WALQyy07AznxJhCGyWo0WazUT0iAdbTOWWgCozuIkNUTXaCDeQdCMVhcZOiNAGdXN21agMvGaV6Eqh0S+QqASOUIrM3GiDCHUlMmowMKBogZuw6ZufneBQ3Ljs7YY/cAu9HakugjAuoA9XDwaCNlqvKSjMvGadzCasCmiJnP2IulXyzwIoCYkSfGmJ5/VeLFU31IEHQqmNp2v9eqjkzpYqyA9RBkVDoIgiKyC0JDqImhjdRkkUnEKwCEhJJ3IIiyTUnPBNlwJKpUqY2VJACy/VGY65rwmSjRaNgUXRpR0R2gKMEkAe/Bc1mqlXlBA7iDAAZElCAXylLoo2kidg85fOEQuNA8JWCah5tS2vIJWuGBcIseviZIUMycYlI10cIdMViOG/L4lCxzUa6KCAVOq+FDo6aQzBCR3AdsLBqAgFHYhrYuojdTFSFwGzy0oV06iuQRSguilURfmkRh0WNHA5WdXg8KYk+iSaphD4YbPLY5TCnQqiTvcI5XRqo/bFCMb1KXlXmfmDomINotimbozwOolRjOpKJZZd0KmcXhas82LUcN939KDtE78wT+XT2YA2OIsn/5cbPFi0PCvbnTG89f+3Wbjv5kIwy6yCzdW6FvagevVwGG/mfB9VBd02O9b2q7A9GrseHkz4YCwFxNd4OH61VMKOzIRvRo97DcTtjOHgebCD/tb3PdGYdG8GkD8NxN7I21ZLgQBsMXtwvJqCCHQTFiF5GshwqCZ4Ho1ioDoW7K8GkZe0UxEV0GSXEVfY2LUL8AZbR4pLkabzxArTWJeDCcZ1+viScaLESW5ir7GxKcVi64yJbmKvsbE5zQT0VWsJFfR15gY7nWAJdvFyJJsZUuwi8El12PX6ZLqYrhJ8VfuhDaPFCthAq3XhZgWFlvX9aslCm4+I8zHRZnvikWYjwsz32iEuS7QdHD6MaINpvGfx3+P/8Z/xn/Gfx7/jf+M/4z/jP88/hv/Gf8Z/xn/efw3/jP+g4t///9M/21/gZ9620Yca4rRiB+HmnLtrR9r0gf/ndH6/6vT+sd/YQS41fV7hcfILvvnOJBW7fHfrgIAZG5ZR4vdBqfAPEQdsvzc3XENjyG2mIcouwkewnrAclMBv0aL2ZhG21D+gcj0zt21/PIO2WV7rNhDGNWPm2uw4k9I3NyUGTdankj6gdhxc02L2jRvgFkijT8jgXMTRtxs1bLPKLRnb+qfm1rFpn9my4i1nl12asDO3djGn5LQuRvb2FUYU6Pgn/MNm2tYRQ+cMSfBv37z0xaYRqdBbK+bo32u0wA71nueyHnLYsR3GJDGToPoX3sgOtdpwDb+mNLDYalwGNpwecq+m50mGvQFlL5YNd/r2jz/TotozS6Dx7x+3Wn4nn2G2as6I0/kzYCPKzbT9IPWnNT7WE6qNqHQtBWNyJwaI9kPBB5jRs09Vo5/kaHHf+Of/0fN/fP/qDkAj//jXyav/JdntvEvbrae9L3yuvQ7ClaTvKyITxk7fFPVmZQTSYqtjFBbV8TjvSJ1ID/YGI623qAsFnK8WGd2iJKXFfHGO2ouywufCvSdVv1FQfWG3v0xNy2fC5v+6HECddGnIn8XXT5EgBaGjft5IG+xeZxAq890MYvMQS52E3PE1diES+8n4kfdT0S5tqrsyFw7J/D08S4Gnv1Iu6bdf5R5wDUmtzgDfkfz2c7azwbjDBjheBfrAPy3C39aMYszYIx7au8yRvlNjpvwVg+jb4bIySbqdJh7+tuToQ7kI3QZQUx7siX6JIIkmF835k2oDhFiMd3Kkd8eowt2Ll4qv+A+rCQxWJEbbT38XQss6RzkcUKIdq6DyrCQZMxBKJomPkO+H4Phgn/kDaoq+YejQ9RhjS6IQIZIzIOSKe6zCd0SIy2W8dSiBoSiPKJSpJ4eWTv1GGTznkMoRBlo7gUDx2iHi4sJGI9eQ95A7sHsELR5wk1GEGwEe6PEvOQ+rEx9NasIMlcPJAp0pqTTidAhSqE6fN76qzJccchmWCQTogITDYxAbwayjBoPqu0tGYFLYFQw9e80DcHYS+4Ljy6TDI8Jm0DR4UQUaCikE2YKcSRIYV6YrpBk2DSrAA5nVVKmNMAqBh5XDHmbjDrMUAPqkbYUmQEhUxQimAjARaR1ttDcZxQ0SZkAs5pgnZgDw2WdToXOUlg6cWlo6kNkIQdQuKN5gZApQlU5IAl4JcabOW11xpiYfsGck7UMSTQU4kX3ER3J7oZ7BvzAoXAcZqDngVBB50AZJRJD8eIQLENxgG7UYJC6Oha0xFLZXbGG9IYBPQoGFUkWlOGwUXGfT2AQIOZNMMQBsAVN0mmSpaHiFGe4AlUwp2ONYEgKtNiuEFNdGHj60gWoGCqi5D6cgK0rn3pMU5ZQCBg+RCciKxS25bOXhaAs1LACWsXUYBlDBMvlsvAY9kLGVHJfdzGNyFMTaZPLCdZFkEBaooJLxCSMYV3Q/i6g6FpGdkaBZtrIw3HvAt5YquBrEGZFgVC84B6lAbQeuwagzCsgBToJKqkGd0uQegvnmdJ4fN5fQvICMIZtjzcwp6riscrIgluwu5ckZhG2BwOHJZGxNVaDytcRTHLftz20AxcQsMdlLwmjMg6CWwFlBJngXuyWR8yHGtKsh8rYm1GHqPUCwsSMCi7hpNK3OmMl2sqojD5sb95y+ghe3SMDAMIkroLK6GFgYieglwrKABLBDxRdSzO+JW8xJZTzWPC9j20E8dL0W2UEAWMfYK524dxijFsNALgiJiAvQWVU4cETOwHyrw+uYjxXtPxVVZCCtN6JnH99COunCa/04bSiMqoAMfN6L1L+VVHOM8HHfkUaEogQCA6NBKGTTfBCWx7J6MPzI/U1Ew1YN1BRH4HF3MYIDeoduDQFYkheSNQxGT1YTLMjrarLiTKV8x0Mwh19/MsWGJIueXEm2rOHLjx1dS/egnegjp4/AeCeMkVUVaeFAvWC42kwRp28LlZVZ2yFQaIRWofbGWtliMAeTBghGNFGXp+BWIDf1tCo8T6EFoSZwL1sQLGpK8Qe4MFbzEtLgRA0C7VNCJv2yBAjCihaNC9uDNubLLYDlBc60toDC5ZBcosYO1VcnohwYGE5QxK4odRMECYS0zI3JfXCUGRUgAmyAG/GZ0LHGYpgEMORkKyOEkGwBv6w8BmuAqOFJB6e2SAhKdYY0QXxFGJZdaKDYbkME15kIKhgqMQGAyqPWmaGQY45qVMvSARcsTzAmROyThoJAyF6cTQn4DI6YRWk6oSKjS5siqiplDZhEsSwhSR4VuyUAcdy3MA400LnJzhjdJ0BI4FNRLgX0qPIUJA0hAIVLRgzFaFiSolxlNIgTAKANkke9BaCYGAhskEoHeS65t5osRqJUwPYH6BpSUzkliQ6+aIlXqheHDgRZLDNPAw4GJqVX3L32VCgEpOphKAlzVbQa6KShbjMUKVODcIlj6DmXpRgk0vhRJSQGXsOuaJOC8XiUL24fLuJVQc5RFqUlYZcEWgkq4ZlxOFBtLFqI3TBZH5FyyOqCEd2q7QNkR9sdldtDMgod5AYGxa6F0/tSWX0ZS55gdoLjoaCicUCs6JFglFsykNa8pQ2XZMWNOJprixsfhYKn+C/IJHsstbCboEJE4ZfBdzojEe5YfEJGPoTi09I7GI+0dmI7sQ50k2nj/AnpeWJCJxRTJsFfYDzPYrRxj7+6mi/SSQntbkEuw3xgVYBPQpZ9P0+D//roUdxdiSO/vad4/dCcdUEbvAjbT/QSrAKh3kda4nKWz++LPRULR8wfqKlGqL23MEexOMwv2gpRTwE/2uw6V9yAMDNIQC41yDAavcaOkK1f4MjwDyRx/9Rc//WP2ru4u+qcb/3D/O20f6hDC4W6uLPLpN6/DrvWmr78LN6IK4WGroCt6tgttnKOD0ftO1qoXHoCMzOjNslQRi6AY9DY35NYvAEQfOqCnkiKlzl1Pg1iWHoCA59MV9zsS2EyiYnFRe+3X4iAViyn8gOQruZ7Tw55pqDNDgNoQLVJM63w7ak/YU/mNluOOOiZ0WTXRYAhg7Gt8Mecmw3/ATEEPoX3w57Flh8zAY/6tSN9TWTaZFCROdtS5JJIkKX6ZbFwRppb8ex0GKy4WgUI2jioSylTm1C5UGFKVl6dhmvlleeNTQx3iAtTNWr1bJ2DLelyAygKpQqMMtQJv/0wxX3QkXLp9kVwIWykhKQOjUK5U7j/sVzx5F2Y5t+A50v9Ju9yKJCwpMLQzKBdJgngkzR8jCCq3aElK0EtYBWVqUEWVSnUJ5vQW9IijSTncRDbjJVyNxtbgmkAE1RQIhIIBdQZgYpUGQKloN4yrKK7gMmUtuLmFRWpQTJbadQHKCo3DcucDYhCvGYyJcNqAB+CQwK7efIBft6FrybGc5oFJnQcupvSPWLdUCSYXSCxY/CVxpBd1sUSgJ0+G3G0pbhaC4BJc0pMncnETVI/JgAdoG+ngXZKFIgyWRf3gNGz5fJANYtul4RFC9Xn7rtF+q0eIjSqwkHipPgbUzn/VmU0uJYKZizIO3YH063N5JM5oXC/aHaAHAVygjiafWFEqwUitwSBrECjYdmFdIEIkcaUqB1rAwQSt0QX5JMZe5QgipIFWxEKiumNI0ZvUJfmXYolFKNtjRGywddgRMtRrHgkIYVGjwEQH6VAZJFooogXgXq6xaqYdC7cPmLuZ/6QRFTJrqJpTDJZ4DqvHkhrToSMHyW4934JyeIVm7stQwF9HQRleEyn3biEcfrxGpoTJTQZH7LAIB8GBbyM4MfhzgRpqOYTHaoOGYcgoGJxxM7Ef50YN3YJggC4gQIAsZRLiYY9kHQtORkOAJ0QOKBBClI6yOAFOQAvX/2E5GBfxCQmHl9BoCYOUDvXVg6veBZ0M9gkLaMEtrXFmE5cxXfXo6C50c0u3UZHN8Nx3gNSeYGuE3ZMMZRsMD5CXXplPKVONgT68a2IkXAWfCUnXc0gYhuaKNyG6OEJnMhIBkOhIVO4XkikhF4SrAj1o1tQV6fhVqABrlyw1OCBNI0ViKkoRdRZK7HCVnK1bEKislJLQ7qpCxkAVCoAJxy1JBkbkau6Wm4b98Pi+UlhwEmeiBCJVWzBrcqgswyHiVyBEiEjO1P1nn3UvhKHMBuG92YwjDoq4Yks0K806UEs8CSWSv8++1KVyHvuXL7MjiOciW6gL07EEIaRhFFZikibHgPMPpEYDzblcB/BGO+8A0p5lmpUfewFQmcKCow1HNYlTbVKCjgMrkBoiV3P0o1lp7Sg59mQo1rWfwolGChUBMmX1Gw8LuTJwvNG66AhgfbUJvRFcu20BRwmcgeF0zdU+kmR0OV0MQDLbQEK4TKCYoAVJVdtr4Is56g8aEpSBtoNzWf8JyEBIiogMgkBpg4HBaTBqAKetaiwRnYKKyJZkgrwQKhyurm/ciehB426+wfn+OrMrnXRa2U2WPjzSsp+FnyqWrJYbH5EJMQRXXU8auIa+ZQ/xnL3zM84aIebMCeSNyIikPAhgiBjoje2sscIkBJcsZfpeeJiM6x1hp29QBVGfqnOAzovGRyUplilDjBnzgnZ1hH5BSPI5wX7+KJvVEoyWBxdUz8E6D8al2BCcngMS4PNm75fG9kUEW6u/PqkMXAuiPK+7CTOzLiDAkKQsrgxTtidpkf6V93onSkbRxEb8qCQy3kdJ4F/Z7i5aPeT7XA04GWyL+neSAPjvaLI41UgOu9vPR2qkB22c0hALjLJGOxew2attgjslNjTOr4nzX3vDxqzmuc7bM3atZ1/boNc1KeyFGPvM5VdVpzUh9OqfiB3r0GTVvRI7JTYyT7Uc/j//iXe/n8l/EfPP6Pmhv/s+YIGzX3+D/+5YTPfxn/s+bm5ay5bo0uG/+z5o7DrLnxP//lhM9/eawcNXfOsqyjxW6DU2Aeog5Zfu7uuAaLeYiym+AhrAcsDfellc9G+DVazMYoPZMdJZA6au6uxUHAHjMWWbXmucLTPNdgxVLPST01AOemjNhpgNhxc02L4oEziTT2tACANeDcRBo7DMlS65ns5NzUKnnkjA3uwvZnlPY8LA10N7axv0VaNXbuxjZ2FcbU6CeeKdKwih44Y05wtgBA7c9lbxqdBlfxesAWpwFWfIdhseK229CHJFix4LPLCAJvYXEasI3vMixJ3Hh5IqI3it6p8W52+H3ObM3z/jnuCb6dhnn9asD36vONku9Z9bzGu4nrNWjrvRWfUHjS6LJbM1Q84O41CLDavQZNW+wR2akxJnX8z5p7Xh41x1Z22eP/qLl//h81BwCP/6PmbqKy5h7/0SWGU4TBaGXIQNT9WjSVotDbJIThffsQKpQnEgGy/iAKhiz+bepb3a/1EHJ3vG9ieMNBx7zF5Mk8LZL+/gF5ivDDPCUe3l6i7Nd6CNk73jfhHTts3mICzUlNLp3QujPEkBePql+3FjwUIQTFw0kf9cMpQsyLIb8llw2lKEEctK82wdvAJz9Tn2oJ4G1fLzxHzIgD0RW8KWXL+Jpm97FX7c3Lw5JfNRHlidTUTp7ItcP5+xvtPBHByydb67hk0Hb7ENVt2G8GbvF5iT2I/WwwPi9hR32yyzKK/04Saydgo8ty+ZnPS/AZ/KalcuQ55yVSUB0icPfUHBuCYDVgOFArd5nySKgXgVXYC0ediGUhxUNi3jKrY+KGRgCooiVUXVtI/g/ciGVVEwrPjxKEyGJ4ollIWMbNZoE8hPTFuTOm1Yww6xfqhen4PhZyrghJFIqnJ7kLStEIIFW0BmiIsafo8T+IEe8xhNI8uUtDi4bAEwtBcBS21MbhnRoQp7HnOcEgUJFTqCRYluxQLF4yS+BRmnkLBLEultAIb0NN/gWYJyKecrMD0LyHT9ON4oY6URVssE2jDJs0EJfCxAW4DQ4opHJCYhUhuHgJqICOCVGaBwWURyshrC4esR7/gyA53EIj+DcoI2qiQPT+4D3oBZsDzJ2Lc2boAZqKJGFIrCKEFW+qJ1QgjUn1hyGCUEJe3dmP4v/QjahSuedQsyHlqPt6f/AeiJZ7SZ2LxAW3rRRprx+6COKY6D+WEOpAsw3+oyaROUICT0xSNCACITRilo5B6jqQOpsWABnPagW51kNOlUDFE3ywImtjQotMaiBMbQhcVfzlRlQp1IcCowpRkNuwSPSRc0bACwyTziNylkoTFcWskI1Dgyjoo+TfakFBeSLaEbyrRxtZi4atQY8Li2ZoKAgMNqPQFPAxwUqFOrbS4D+KFFSnYW3Q/l0Hd6kRPCELQMezwhVkpfsw+7+lsV2xlXgRU69LRP2YwWNyUST/h4gxk33u+wqeAN87eFdgDscCI4G+dfA0okqOgcV4mVzCDvxWRcgOFbsWtE4yUcWBn/2xGmzI72rcKji7K+Q6mOkIwUNRF68TG2PWy3BEQRsSi5cilxiXBErX8BowG6IDom4BowwroY7gX6re/bAttobkdRk+L5eHlXA58ssuK5w2ZWCikdnqQsZ8hOrlwSW8f9FP++OtzE4XQZarA0t4AyOf6sQKBAGjByCyjqmQ37o4qIQ3MzAa9oS3dDSRRS6DLUrZLwUo4S2MuN4UpCCtu0gil8GWuDaghAcFAAQCRcOuADFzJLYxi1wHXUr4/uQS3tD4u+/LhNDm3Xh+xOFGvI4gObSmVmCp8FLGs6efqOMNCBVSaE6qTUSdQTBA7w/eA7EOBUYdx7iIC3Y5fg1GB36TQjq2iANiGZ6ctmJFLGM6MDGi9EMXYT3egt3SeA9Km7eR19U6LCH4BMaGiHfA/Cxg7IHkv+hqchL95PXGmIxp8PJNAo7BuFmxaCBvhGHbNWM1xip48ngPoHxAawJmTz+xB4r/Px36Bx1CbSSB0gJOWvYHecSgjBCOeQ9KFIC1zQOxkJeWIqyEIljVX6X/2Sgwu8wJPvM6p7VO7nOzRnJgrMQmnMQAaPC8uJUAPnH5oHpMdON1tBICPAojNvzNIECoodD23xmw8cG7XOum+L4OnUPKYzNGwBkB3ikjxXScazVYs9FPVNFKCKzaSEj+jzEarzgsNmAjxbsjps6yGaOtM2A0LAD8kUao2FtGTO927Q1KSWQX+aHgvyCtCuVDXqMFOiZVtBJmqw5Q/EsSyx/c9UkADjU3ZXYQuGv7f/Ae6FDZwGJ26shHKMkzFK90XSjfMJAE2L2sgI2JWi+oRSrhbB2LKvtPm2cY9Mb4fwGJmYAt6XgCQuYGWeOyH7wH0A1PHwyQghYcQA7MSP6ZJ1o+6jYmjdi9rEAbE1IclrdyCanOon+reYbss8vkwExB6IYgQRCKbhZdUAIKD5RsykpCy55JI7rBQNqeL1EoRejllzIvqHuiQJEm1Qs5R0rFEk6KYP5X/du7ox0L/vuC+QidcEh9vsQUeYHSC/IcSl6lG05UivBfpESoVHlBPbuEtpWwlKN/32HEQTaZ7Go3Z5DGDYUvqz1kjt66EnrtRwE32muKsPi62iP7ahpk8XUSVO/rOzvoJrtMq8+Rbjt9WUSNE964Kk6DvqzzImd0C/3trcIgcmxlcgt+Vb8ncu+FxNJ3twoBIufsMJsxvrzV9ubJPrtMggY/0vbbW+ncwKfS/QR/CYjNLlMttUSynwPaHsQmnh4CeO2c7jWQVm38Z1cBAJ3QP/+fPfd/tj577uN/1tz4nzXX/CGCRjfAuz+a0eAFmHWvhsuu1nkgDD5DDJ5A80qp2WWdIIZBqOAu1p9vPV+w/UR6/7g/u8pbbsPgNIRLzi7rBIzS/sJ+kpLzRK4bOCF4DUOnZ+u54GpdgL9YLbvPs28MjVbz+ZNx1j+hYDfps1sRPulodBuGfl7PRk0on7gwFRX3GxOGLkn4VKaFzyJc+Eiu3QRt8ycGrRjhnwc+BPiVHPZP/g4Dh+TkCTABEoLFgFaqjYROoFyDKgYRzyLPjIbuHU17JDD54DdPDNwC4nMaNGEJqi2QA5RlUC/E36LTIjnsnTyFBQCFR8AvcUFekWR7C0HaEmBypAgINk9CMxuk3vjJHdebJyJR+l9gaLIDbrKEANI2yuQzLV9Mgw7KAHgN/5hkiCm3ebK2mGW4wRjiDMRLjHLDKfvYN/RLgzLesAypMnvogd9/g6ZMeN6zQ6OZ7K7Jr1aATHtUZike/RBj8GaTLXZKUcDorRQNNg1pAdh9ejE85nYp4Nky4XI3pFGRYM+XkYTPuIUCvqnVgT+40LfRjCaMJJ0GELkXPTK7DC/OgkECK65h1ks8n4ixEo3oX4wEIQOjBplYPbP4vNTQNLylSkD5zzT8LpQ+4InAT08FhqQNdGLQ0zcHAKj0McTwAXFRBZwo7PRc4Ei6yHkkkqNsQ3Sck+pIopGXOAGyfjCwJE2kPBLA6+eckWH3jKhJZDW8C34vzcMKiYQQ7hnRiSKjA+9muNwNCVQOAkSU8SL2sOMJPF0Jaf6yD0RMfB0o9JEHFeIKjFZCD+VwZdsD74F5YAmFSEp4EiVpKHIkkGwd8AedoGcC4ZRvIwECMIb0xUhQsQlHt7nYDAgTTyzGcPj8wSVwoBW/GAk4y2zGshIPgQDONbrnszcF+QuG9DV7MCSx8MVIiBfiF9MgqTIInSlFnaFHAjd3Sl9EhEjSmLIkANxEImkX5DYWcmdBV8gw8wr7yNUTc1JJMChxY1hG0DwDv2lpbUZJarDyLJAsJL7wrbPBgh5J+pATeKgMJI2lCbqo0dQh99bOQpDAti+mQUd01vtwYBcY91fMhhmfLB34pMU+Stl3iv5w/+qcL/j01FcRV84fnTgWgEjzRLgQ3YbBZfhZ+gyDyxC9ht/4grPL+o8wdFzlL1Wayc6EAJchDp1W8pgdhV93ydUELISSFwGdlvWYHaX+V3jdOs/3zunxXzcBgEdKAHCvQYAb+mD2+D9q7l5+1NzNxvgXbZ23r17DSdU+J63r+uV1kbahjy0+4VxV/zgllMksfjFwM3vasP/GP3Xvu/gYH5WNRsWdb6hv5TvvPqCRizkHDoiz2pG/whyim7D3lycNXkI0P8avwMe4mEDt/InHr8pXe8yIO8en+KPyeSKPGbt3DCrDO2A1i8eOWBcdJfC4eY9/Ef90woFAVXgH9t9qwr5YE9aAC3yMvcs+5aAivAMTeI72ZG/ZkfNUWAP+i4B3YM8ediisATf7XBfLJ8LKj7HuwJ4+7EhYA/7k4fOCEacaPWKUu0G0wJkypkGxS1ApJt0XFFp9dJMPEFGcAlk0icEpgzSE+NioumImD0tR/rnkav9We8X66CYfjT3Zm7DWf9F1s0pFjPHww5aEFNIVp5OA8FQWYuidslxpoTwPzvthMb4IuQRkoZmEkDuWwFpA0jHN8I4QTbGMwxqouDEMe5RNPkBYZadQFgM5LiDOBKSckKYYOVh4LGmzKWFyErwGzoJogoQq0q+b/MvuJ9K8YaVzye0UIQUcYUOKAQOQ+MP5hxR7GSfxJuEx/w8XDasjJh8g8AZfWwsrFBYkw+YYQHObpJoHUECZWAKcIYkg9SLKVMypAdnkg4OjRVkr4cLBItKNlxQJKELUBAlBsa9CvqHE9KgmH5333oSWLvS7MxzeeIl8+6mEoHjoOCN6CJakismHg9aV8fOYAJMNHSPxJwTdUGWa0Siq4k04J2STDwatK1MZXQRJLhUsByveB3y+MEOCHOsVJZDmhZwvUL4dw8Wh+CNIiveiweTjg8OXKWBTEO1FbIyz6dozw6rFN8QuRlDicaF9UZSYbQL5V4TeCEq6W4b2zTGDqzPhFr0Yw//ktPd8FLT6PIwMGiJKKy/HlfTpBAlbhyn8cfcTaef5iJg14bcADT5ryAkVF8Ne+BLGvYrep+Z+LIjP54wFSxwGpumRZNQRwmJciUnGY4hrS74TtIFoJ1byVrSYw76itOJFmB67AvT0XDIYxdU7TfYHCxrN2MNFlAh9lc/3Y+2Q9aOJF3Dc5Om0mmiArJfyxOzJvg+ky2dVq/GNGQ8YVrnhYyZikaYrrYD86waff0rh4ZJTJHf4IowEw+YEYxx2P5Ec4wGEboM14v34A0YIhBYuYPqwCCn/fHsMKvoTs6yjxW5Dq71ujrVAUQZ0LsbgpOlaxN8V8xB1yPJzd6dRmcCYIQtQsxiSQN1YG/AP/tYs5iHKbkLDCqJDDRdfjZR/tgxrwjljHPZiGFlaWii7g7z7GnX4asxyKHYQ0y2oF8LtNcchZiIGixJ/Y9YGprcsjYvSYx9HK0g01N2GZcGT9IxBHCep5uZPDH6N+9amZUwGkFQAvmgvYwGW7sgBGWU2F8oB7xkQQ5vwjL88aFfB1lq4RIYvXUiqRwHllhlU69AvTVKhaOj8gaHm7lp+NWqeCIkOOuGRs0Wc+/DZiZiGJOZ0xRxcgQCFUqBvUMbqRsHkX3JP9j1W3KDwfZzwxFfkFoewlBFVFwOEuh4IfCsJygkxfaDO+DszNrTa95cIVFNYCTMlmmLqQoVoEy4smd9KKolWkjFqJv+GWJ8GGay4UUkhAn9LkiP9MY4uVwVR1SGYkOJFEBjifS6FbAJCqibPtHdZPlFuwQi/DBZg9I9iyR04bRrpvaoB1GAXNd0dHs911Bw3N2XFJEwWPA+Ol95/fdrtkQd3P6LfPxDdc00LM8YHon0mkcYsEO4+8eNzqoulGf+aIecm0pgEZuNeZSRGfKmQc1MrEVzBvlXIGVvLfbPubnsWJrx3QRX+5EsFnbuxjYlgwvo73U8kzfCVfa+gcze2MQ2Ux84YNyTjxnbJQjXlof5uRmBY299fH9RDjZbVnND+jj/wIJwEHFlqcUOAaWQC9oo2gQqI5s8q0tKQVp0BROkCYncPfFWCqe2muLMY8YeU7g1LTWOnAd7CkhJbtS6a0elq2mINGOIuA35jj6GFlnvic2b7Xtfmef8c9wTz+tWA7/DpGyXfXuPdxPW7jvrPIFhb/2YEjhaattjjv03Dk8aJjJQAwH2sd++sufE/a+44zJob//NfTvj8l8kra278z5rbY1lz43/W3L181tzdVv6Lm13JjttmmMWyUt90vO5q2sapnhGybe2UY2KT8VxX6huU/Iyf7MkuSbqtHS1dNnxaupaV+v5kbg1/N5Z/eMy+DwBAFdwM9dZnx+NRATSUv/j4Z+51Xm+BhM/POAq33Z7sL7rC6B//YnaSi92d4H7y61Gy6VfYT0Txb3bt/UQC7ydyc+LXxkvYtfzrXHoUDvKKBGL8TmDXxir4tbBDYKeCtGrF8J8ovIRdCj8EfrcSPxmwBr0YVsGvhR0Cu12Jq+Il7FL4IXDGSfYT0QW7KlbBr4UdArtX8ekYDV1R1IRYpFzRN9L02csOlgf2Ro1N54p5NYj77pgR7BiDzze0QjMpbsZvaNZrhusLR6FLbjT6Rno5qfJis6CKkJeGHHYo9gRHpsg0ZAOp5iKgaGbW5iST7Si+A/kA1cl2mH8AGQrRIpHyFsmsEq18JIWRYaPQUOpo9o30yEedpo0r61UyHQjQgZJ+z7JEmcMZs/bcugRqPguR7PC8FZM0p2X2zxGGAlsEeYSlADyrJloLI+m51mQUqqXebaj0Rs2pE4TcGWjLClVG6n8DGE8M0ndYpnZTKqcKyxRh6uS4mRU7QkmJeqGiFsx/wo2Gn2YRSwH2khy9ZrkAtIiw5i2lDmGnb2QHXPH1+xqC5UnCfLpovuxAClBzwu4EMtNmnuJgJqQIcIhhM5IdXlKRmO3ozOYw2CKYECEpKL3gYMGaKSMpFDGDS931E1ahiA2JgjhDcNjllTwJi6wNKEBxh+QRmaMV2t/OzDA7RQZnDB00F6FnSDwbkhJZI4lGZK4wkiHQU+po9Y30oFk2WSMCkJuKSKLdS+NukJsRs3IFw64gVB7NF2pHYWiAyqhIxqFQC6AOSMkaHUYjNieNJCcS5VIf6hvpPTZ6Xgh8ihISKJC0TTrfhMOt/CLcsBlNgQjwWKRSwjGEYMREDh6iPhCFkRwC5VJbe2X1jfA4WOD5Esa7XW5OfeK/ElYOyY50Y6YdIEtDm7jF5IXgpI7SSJIiQuql3u8b9VhINIxlzRJiB1IctOMKHitRIpiVZ7RhBEdopRamYfQV2Hp8W3Ae9GNXoBKmxiEmRpl0H9VogBVNL1sI+eIvdCiPDrwXpGU3kD5Bio46ksSWTjxDCXki0ngu+7y6KqjN9wW9eWlsQzwCDLxy1vf9KL3Yhlsv0UXMvAVeC+M1oyYWMRwhnZzUpeRyUOdewrDMMkLbXwDH+DKKpRYlL2NbA7TuC9hx1GMT/B5mKQmRgYmtYKc9sZnxISizmjoM78F3g5x2ZCRsPFgM8pYapZcyowfrAp/2Jiu0cV3iXsbxCqKvXhm1GyADNwTp8jgSdkxE8XileCWh9OfYkpeCS2DDnyMC9xBEWs3r3QA3tzbG0sxmIg6F38aYUH/PDxrUBvQTdawNI9nZw9iYwaFpg9BG0lkQJRpKLUi4EwhJgoVNHdaEE4UtRAe+EAcTBtuYUUEcySaiXgXF002dRqwT351w+IBfVyYYuLLRR5nZZaJgHKGV0rob3MdjIwIRHaCM2gRmW4CVaiCUkdSpl1qYIhOAJK8f246xEpAnW+MNBAO61UEdiCJPxILBwyblVye8O30vYBxoqGcRcRWYJWUksxA+MPVSyxHsiARqs7EOy3HXAAoUhiJvEbEfDitHDFYJEk6oxgCx1Kpkkgj0rhNRKzXjaK/4Oib/MFJQ7mjARC+oxCWsDrENUZQS9cpIciFB3JdKXWg1WYghzejVdxpt0cbA/8xcKticSG9DYLsPlCitCxUMDT2OCxD/nZiM0WAZLo4kF0Lcl0otRhZKOyutBLutDFUahViZRFloP4wUJgFOcVSG2AXsvwFcQxJgUD4IllJ8C0KI+0qpi6WP180Br/xef9zjMbeZpgAqZZJg10Np0OVwpiSoGSRlDNGOBlJDdAm5wbSbEH4OpDBxZAWc6vGtCSHui6U+0jeyE1NLCVtMtEHWHrYYpZyiACuF0wKWUYhARJIHEMzMEiZzih35DzBySmcNdFIXCjafsHa2zDMgTOH9+IL0wu6rpT7UN6obayv0Dd/wayvUepIC0t1BOpWFmCuNR5QG63Eca0O3IzEk2O0+qp0kC0meJE2JH6JkEISRVIRA98VSH+wb0Y3QL2wuaSOSF+i8q6aqTLgB4CCJZM0r+tM7rkmue+GUa5lkMUo1E6ZIY0GpBfbsTasPk2Et+EGvh2vKfa0hKiFPRDrYraafCZxNzf1XAotHhtoPuP4xbnycM34jMIp94RS9IekIe3FLGcRv2Fm2kBCug3CqhZ05DBfu/EbGAOWLe+Pf0EjCb3XNOzpmbmgqg/ahfqWYrj/Z8PvlavFDA5R4dqcbo+cvIE9EO4Brv/SWR9H4vZE+r77/gHeKXEK1JxSkbWhExmtksnc4j1mj5h4rx7+cGmTrm4FyC866rl8O1ZNGl92bETHF6zt0dq/BMxa710BatfGfXQUAPH8Y/7PmvMuoucf/UXPHYdbc4//4lxM+/+XJa9Tc+J8118dGzY3/WXOjV9bc+J//csLnvzz+j5qbl7PmTo3RZTMdy/H/IyE4BfYhymxC+93dUbnFcVhN5jHMN+Skeg7jvlXtWN6REFwGnW2oea7Bip0GSD27jOIdCUHvwJmUEX9CInlHQnC0AIC1x/UA5ybS2GlQ+zMqMLyPKUgeObOVxG6Dzqr1z91KYp9hVNpzvjXQ3UhjsWeXsbsjIVjgLyyaR/GOhPApKXx3JAQAEL7RUYDyNG+AmRnfX4AdN1013YOvsLSitC8GpPE9hiWJ7zEgjRsvTyT1wF9YhO/UeDc7Ry7LTyx6AbyPKSSeef1yGrzG+wL7YC6A3zSDWzNUPODuYzmp2oRC01Y0/NIRPf6PmruXz5p798p/Gf/B4/+oufE/a65hWXOP/+NfTvj8l/tZQhhayMKxiSFoOpM9hhBaqCwkhDAoTCzvtFkIoYUWVqZ8NVLSD0+cYYDbcsrbUGOdZ4jxYUIA8xsVdF3/C565j/Yu62gOGCV/AfxGBa3+Ahfz1Re71bjQ6vOvo4eN9xOJu4mVq6/rytrGtq5/ZzjjPzwViO8Wuzh2UzGebOgV7o+FXxz/jz12ccz2vFgH4xfHH1vs4ti9BRdlsI2YTmGnEvUwUa4NKci9WdJeM1ZVR+wJclEFg1VZslkvvC7cgomzTG2YQ8YiHwhQVR7CqCqugYMopuwyrMOM7CaNlBhvFe07DdGCSXTNBgsMlkitxph0ZI93OdVNqyzVoFx4Wbi9cSwzOyU+ue4gyCaI8iDylFGlrvE3yJGQ0Pv6cc4YbjG1U6AUknRYvGKDNiVZ2ozBU5qcQHsmkYsXvMpSDaqFV4W/NWFxjqA+aa4mhMkPCqdCEL/LLY0qc509Rxnh8RNZF4gGF74fI1GzIplS9lnAfBFsBMscwxdvM4bE5G6F9kQXeVIgVFmsQanwmnCHYnFChyQTx6dSI8mEIBTLK4yq8xpH+ZDXeHMZb9AEAikgvUO2nETVpClmsA2ynU9CndBmDPwtQBKwV3QRQpXFGlQK3/6TWUGSSSow16j4Q1KBC80CJofSqCYExSqirOlW2y0LQQrQDETwwcJE2SC7spGetZPU7DZGDfrEUAAuQqmyVINS4dt/MivIMgewN1H9IamQhWrxzUeVwAcni+wy5slrQO5MQwKDth+JEKGNHMkDdkCfEoS2Hs3GhOR9t20oRhyhVFmqQa3wsnAkk6DLBCM40fNDUgFKh/L4qErYXQQ6STgi4FaYb0CxzC6kzXxIaMYaGJi5QTlZsF7lwNQKrwhXylPAG6DRBwqKhGo1ItWSQdBPJruhU+57BSFyCFoMYRO6eNcwQK8xF8SlcnoUUKos1aBWeEU4jSaG7hPMZ1SEKSeRLpFt3FagnQYKREOzWmAEBaMM7W9MmzEFw9KU8KsQpAZLiBqqzzI0m2ahK4nbCN7VvgCpeTah15g1AuTMltfj3fhG5Nr2gsYti2rcB/5eye8MrgVXAbLW0mWs9B3OO1QsQau8AD5MZVSZr7K2MWZsNXETMXYn9ieaIXU+MrEaB0L1kyfCz9LrczNCz9haWo05i6Y6ple5GW2YSmgyd8C6eS8Ckq/BCyHXfkJMjKV0GavB5xVIxcFxjLeTdtKVkLEn3o+144tAHWsl7FJ4K74DPi/aAbMi9mPW5V0MNT16jHWDO7anyvFZgFEtI7Yt0Y73E93gpY5/GOiSRZ4I+4bxRNiB0YggYDQxBKIF0rG8ylIxugrfjV0W9lsK4ntBJNhooDRjaDLWDV5CQKjBR4EuKmLb4X0gBcK6amwRZBEQavBRoMsgnUz2QL0bG2LDWyBiWBe1GKtSLboFV8dr8Fngi4I4JRDRgZGAIEQjLj36bqsxJ5K9Biy1UmVSgxVxPaKEJnMqWCvpOoJVrQAqMkzvGa/jMqMdC2W+3muMYJnySqkyqUEHgvAakswljA1IiZfBhkQATxd2IWz04SlZugmmogmHfpQq4xo0Yl2oMi9GroeKONeA+r6FyJDtdzNi8zQZ02ZpUQTZF6qcatCIIryEIjOHTw1WdWU+OtYQ86CC180BsUZGCeuhtO4wxogmQsBo2Ix+rBtbjC/F7iPgpldpfO8C9w5x0oeJ1I3p2WV9qFVuhQsvosjMcbkAmN73Hwax3PclkGKNsQNlYxzUnKOGIYQq9yMIryHJzKFbBVUd1HsdcRuhbXrB2zVaGJhYQal5mo3Bxy7qI4Qqpxq0IQxTHdNGFaaXhlJ1x4xOjADtUFfokPYWYKPQPhuNiO8istEY1v5WWQSZCF5lVoMq6jBVsPf9PPKoGhJUwhAG0rsMdQ0SNo88Ea6xfELgFer7Fhy1ZKxF+aM2Y6Uf/wlqubNqVmWxBlWEYeKwInBjQUbc5/f3aBSsD8Z3Tu8y1DUSPIjIMG2FGkZTQJvHTJ1MVCST7bz0o4agw5iwQpXRASZCqLJUg0rhi8J5sUVjVHbMWwz92vGSBOM7Fx5qF0eVuUaFhDJyUssntuKbXdZpmgKWJkKjZQqSHU4sxF92GNNWPH2lSUNuWFZl8VGea4UXhXthxIL6pAWbUki9eswnIkYpXWijylwjD3IhtCTtGRxdpLc0BcREDBFZPEqX2qpuTFpYIlQqPrSgVmrQWfggmQm956kK90l1gKmH/ENSQQlmntPiqGLX6H4rafywtLb1q7SSE4vHx0iArjMmaVbEpugQqizXoHOY6soKMtPrfTFEZlvl60WT61eKzSdtOOlQBuvPz1+DSzjPYUMCxDrS4iQ1eC5RbhJ4HKUGnwtlZJeddH0SLP7jjnMOU4PnEqPYWWrwaGLs/Flq8K0AAPrDOtIOU4MnE7ZLaJylBp8KDeekOjvm7DA1eDIZ7Ejbs9Tg2WScJSDY6QxVONbFBGiggPg2auCT//uN4/4izlKDo4T43QaL0710/Mvjv10FANwcAoB7DQKs9sHsn//Hv/zCH//yWDlqzrmxOA62VSXcnirsENCPDnIrDx/9FSmLHQjbqRRuDxVunw2zT4+uqpl/NDzuWSgIniv8szEeLE51sd8JHL8N+mz4QfcTkTgyGTkb9p8LijzgGoufE/8vOHZOzA56sY9Ffk78WcTOiR0VfW/Iz4nf2gifvG/OJeGAuQm5Jx0LmeRVhFjgVpbcvCtRKITzOqHHN0uZI3goHz+DyGWoDIsFvsHjptQY1pNSc7Bt/yBTnj9OaaQDfBjC4pPP3/CBAlsSXRDy0pD7HHW8Ugq5EC58uveCHSMelEUuicGS68Nib946cs1Vn5VnPM9I9XkxBYr0OGkp1OMtTz6/M91jZN3BnJGpRMCccKHhsyy1EMpTJKDZ4VGnFz0JzmiZws3NVSWuQhgFUiBYTtnBZgeUKvcd6JoXyhMFADbaCrhvJwU4RKAk+gwlGEDYuoMKhF4IZAr8LcCOFDZAtnBiNSIOhWGh5t7FRnrhieYfL6fsIN3LkrPLpMLhJpc/8f5CEw6MIIk05VAaPmFOnnd6tOkHTtDcRikExWNCekb9WVlVnNYIOwxhWJC5DFCHaoxqNiGVU3Fgtley+FPDjwDhoCH/BcCIEDHTRSNrQwpA3CF5rBAcQUyQKYaQJ9Ka41Yt2vwVQnCFnDYMuZzMgd2oQaSZ7IaCCM9jqCbQRApGsYDBlqE9DZ3htgYGAMYKgdEqBzIGA5RqlBwqw5L/Apv0MHsmEKVyCg4kDG+NGxkIvi0PARwTyBACyFMKUYIpyEkJUc4jlDIUiEmyxsu4glRO5sAUpWtQKfB2SInclAXIFKSgwAJCCyEj1EQkpDugCw4LJAM2KMwmRionc2ArupqceJUoYCxDlhBLYZJrjFay5SpeJRQHemd4+Gw9fiEc1yj2wHDNaFEYsgOF5qSCLiqSmrBIJNgT2bMC/qQVXYkxCkEdAgF1DhVSFF5ORECCTNHUWYYDwZ8HNiwE7mA9sFLftMptKUwXdtSO1PFbY5241QDBrKKVUyPIFG4Wb4c1Wnwk2LAoQIlLwVMgnUKtVMGr+LyUsGsTCyHDIgErvQ6a+UGtj+sRYwG80XQGJq6E4mu0g4eFwE8rkTK/5OwyXuVcmlGXBvza2ELexWfQ01qERVIyLu2ovyXoUkJq9GCboKRFP2hYKOzUh4kIv6XNTHbWcO3Ii67LQEvHxaAhMyRCQItYkVxKhrUjLIOiZLvsR16CI8gflwIpSOsF5GERIEm/GmVRlGyX/ehL1qWuXoouBhIzr8uEQB4WmbmUFXwB2CxEOv6lCaszTGxYGGVv8WW0DFnPqDx6MJlRuIrVcAESZQkxGlWiUsUq5EYj2CDPlH8TThRugNuUlWKpmogizKeKVM6MFqASzRPxFkaRHBCIoHi6TdCIbQWeM9RmFKYGdRGTMFQyjlWI6QFUzaIBB5jwRXloQ8uQleSkvD6iSRnonCkE/6I89GMbYVEDOtoGaF3BKgxqlufrTeSuZA3bCm15X4/LCA4t9sDxLv1AmlLOGxg0G6gSBUIhcsOuAs5Qtgfo02DDIoEqjACVQUjlFAiWgvNEJMNnQg0HlGk1UFcG2e5HM44eJqOMR4li8ysOh4I2LCo24bDovECknEUGjY5/MTI18Qoh7zVpxnD4ZJoRHdGA9IUFqPCu0CjBLOgrUBTJoTQsEJhlNmOk6AMXiH8BABQGvbKpB6fWM4b+5PMzgvWZ0pQwFHrwYoagnPAutD9qcigNy4QR2VPFwVdbG4ILJJlkDtIbSaKZ7LiHkoC3EJI7DU8+v1nuRR4B4tfqFPkRFQgzE6EQ0FswWSwjgkUlq1eTQ3FYSOwBP7MtVnRcIG3CZYwhWWpVgHkMmp3gZMJNqzQ86zM4p5ASA/mhCsgKNLlSCAST5VSqFJWVrBYdkmHBo0OhRpUS8nIqlU5uEY2O0GddA7oRxhafVEj9JE0gQDRoK+RHU8BnBnoh+JwigCqYCrVVk0NhWHjsYXWVoseoTHhoopf9yINaMVC3RsMbeV4MSpCOhJP+nZ8p/87bENPdyhC1nl3DUlTN8ilYgTrKGZObBmL0wZ8pf6P3/JzwP7k8e9N1YdOfSyFMyfzppBQRfgFK2fikYkG5WlL+tx7nXCwpKfHFAABSZJe+S8Mp/qhilz5vwc5/OSgwT6Swr9W4GkbWTypksbgehvcSeVBxdqDYFaPSDO76/uVcTA0+9jPlLxwzNx5VBjtdeRkPKwOfLriw021/1FzVL8S179AZ49an4aZ/wQEAN4cA4F6DAKvda+gQ1f7tjQDzRB4rR83daxDgGbh6r4G0ao3n//7v//7/f5YjwHNV/d6MiOnhVC2+oHevgbQNPQAbmrLmxv/8l8f/8S/r0x0AuDkEAPcaBFjtXoPoqz2XE2CeyA2i7RU/9f7b1Pt/25r/0qb8O9SUQ0296NZvVb8ncULr/2XeetIy2f/d6PptxVMlCDBP5PHf+M/4z/jP+M/jv/Gf8Z/xn7ORf//n8gLSLrz1v+rQk8LPZO7x31sYgPq4jVdi/e8hBWnVHo8BwCMlAPjI8u/JctScw8hJffwfNTf+Z809WI6ac7TZZet6zLKOPoF1WFpHm9UGj2HxC8xDlNmE9vvSitSNXsTiGZgHpmNGh2HVmeaNKRsNZuw1NNqGJM46NBmsWGXjX7pnvAcz9gw5qcbBKWUsbykYR6eEEYtdwy0OaLU8EdVLY//wPCzp8cl3sGKtZ7K3XLiVLOWu6RY72q2a6iWx0DTQdR22sdKe862D7q90Kfac1MZbeA6b2FG8ijgPou1eo4/aLU4DzNhp8BWvIm7xHkZn8XrAvIYljX2G0V28YkmL3nNSWxDchcVpQBI3Xp6Ir9d+IXyGsU9onn8yyw30b2/3xer4l9bzvc5O1Qmfmkve/OU0zG4XadUcC8hmmu41nJQn8vgviQCA1yDADT2hIK3aza7H//Evw1v+SxjyOAyYiWJmU7beWxL/IBJDJkyST7574ffIQ3viiDvnMP3OWQmfx1LJEvTtYmtbmJvFP0e867TLDUZzcmGK/kkH/B7x3eT7v/ZjvCKZ2jkpjS0hZMwnGf5YcvrBZNuAuBWHmLHk89El2tsMOx/2+fJkzR86sjxLtnfE7I0HF9rm/mb/i9kLsNrpYk8awl0dWzKUdUA22k/kQcOFrPAtcTN5n7W3yYXe4rnZJzXLzyjKLAsvGV/qy2lJPgcBXGzN3qJ+AdjM6ZFFPTIlDok9d9iPAj3nFTXbst/bkTmf42L5xH41UHPjlNhjh58df3DI4rBh2ptSz4jdCVisnva62eGqehrs6PgtAMoodDjDug3fyar6XWJfHf5hfs4W2IvF10U/2wDYefDC9fWE+Ofn5TMf5Fdunw23UxEN6EqpNi9LqUFlaPWg3WUKFuJ1UNP2rven37vMP8ZpmH82zI/KwCgTanFraZIU/YE8mAFXIlF6IJA5nwo/SBfcGOwBQ5A2FHVfAn+kM4d5RdaFeCtcElOSYjVojLvkjmeTYcR5k16jQJrOzkK14DP81ofDj89bgzAxeo1zHu+KFNPBMy1sT8rJLF+hJl5I24CPW/Z3ZJOLfa04ThcoDFxPJCn4hlIhAyfEWy/82jQp7BMPBDFtcA71B2V01zJw93xbjD6ABBwMeFKqS7GhQt9tA5INxUm51yYeqmPaDHCu/USQscHDwnyNaJGhiMEzGyRFUCD/D98KRvoFrUjXm07xfKo08R79PL17ZvC9GAoDZYaEIIPPlXS6xIvzqZkp3W4B7CvGCCbgkpRW4NhAQjIfPQSZ/GDyDaVbnxP6YSvE2YeCLcaqeBNOwFJp5P7x8b8BQ5KyiLEBzCRlPISEQiwBSQBydsIkqTcA9ucEhs4anFXztsC/evCcRJLSz1sQnrquIyih8pfcu2xR3b/lVxQioRCbQCY73y1uTAgfEXz9xIOuS+GCctMJMrk6s9ALITRMiDjto0L9jCFchcXClfwQHSGNHvXVMKwGADaOzHhJFCDKJSmLwZOdXviV7fvB+cFFyrWE9jYQUpSCXanKDaubHRYKIWg2DDKJtWWFSv2EozCDl0QsXKF9mfCoNXWSKQyr4CQBbZwVUS+WLrnZB67/m4SMBu6QQvNRJTR9lCspdSUof8sk6uxFpRBCeoSAm4pQP0fka6pQkmLhhpqz2YSQ3tIIFYbVs5IZbOPkmHFMivx+dJvM0jrsWwFMIED7okYm3UvCyWdR7FDnHBbalVTYjjsKCa4uCoVArrNWDpTHwoPWj2dcT0kq6UNKDoundDUbITasovMJbOPUCNcdXEUmZUfMmnCNL+ZiHm/Qlpdvgx21ldH8wpOEkLYT2BUbaHg9wOom6oXAaYOY5SNwtBqvH8X8jVISXjg1fWDJkYmXGrmLoEw+rLJzbOOox9oKQt5I4UWl7Ie98CWMbwUyTm5ZyqxAR26wWSxvKOrKofLg3icmHWohZLgCBC5vCeRfKolUOGnNLaPDJTDSCOnDGgxi4xxEA1QHaXQ8Z+NSdmOS9HUijAvobSwKZQKCiVOvC8hVMAtSzrwjISYdlUIoUjlDwN8IKhHIv1QSvXCsEYdQBi0QhzRCfFgFgtk4NlPhGI6ySZCyAVzbF0tIYyeRG1pnvGnw54azBDG9plIhegnsrItSSaJSVaXkTnJLZhR4iWYQQ1d5lONtQBUVGr326KI7Men+ZhlcQRmeIKPI4DlBdOJrgYdeiH6gsXYKiofL6Hk6XgjnSzDnb5iN08K3F2o2hSRlCaa31p8A2owi1gAb/GAxtw04UNtIJSmjnF+IVfFj4W0IIz+XreVltmFKor8M1g3dAO4JqEMrUkn6AKWrYw2QPh8HwxoQrt5cbX4juiRlNTgnmzHOYfdJ1YJb1KC7cvXgeiTUAQ3fTBTrR7X0Y51II6SVgwTi2UGRoTe6wtiGyNe5bxyu8wDQTZiMoI3X7zAg1ZfihDvZPX/QBc4eeRQkKUsI7DvydW418f3hVsFZE/UTizBrwaTe7yXasRJ0hORy+NnxdlzBlzD2YHylvHfs2wQeIf1ACx34BK+fDi9JC47xZoRynBTXIZEABgY3uuhAktIOtWT5OvTt85YIsWsDnHYxBq3fKRDKcV5MY3SBxnaCSbk2Qfvly+OlEHYNJi5INlpAKC2r3/WRT8dh0VkPASvjCr4MrPytsh+X+NJeEQwlDb8k2WcV/foX4wCop9PiKtaHKdhanK08FkFdfn3g7uYCQBNfBWC3CL1m4fqdgNBOZ8YUNWMBQ2FsgG1DfGvImWQgLuJyZLtdCFfMcRBYORh2BJrOCmuVUAiFWA68dgCsD1SjrxAlk2hjjeuR7BbQ0gPV7xAo62uSY4KZl/E9YTulgeslxZpwzvjmcDUT5j67ILPdOvJ1fRwCZV3Br8uS1WsEVIwFXBCJsyxBSjueFjL6yHzCcYiZKh5vRb46TIA9FqDSYR3Qa2sz3ktALw1oJWmAitcpjJBxWGCeCxcWt1DJQ5rwiVCIxagffo+RGhnEo5pE/v0RSiYEuK5KUVPH1zOKkGTARAfezmhDHiGtHKdkSI/lMyg4M9zyddWCj6Q0uP0McoAAkpJMzhHlgHhlK4Q4wXX84vYTcQk3ycJ1sD7odfsgBMYlYJ/EwfB5wacK6bKz1FR9hagy61Zg/kg3JadZVWA5WgIavlLH1wlpWaXDeghEbIe2wWpCKkkDvGMVaiPUwYkuxvMBbRnEXEETj0Tk2sKtA5eCrQVFkMGyiahOTkG0Yoh4LFUYYcFMfGe4DYloZFyI0c/ox5cQZaDsozGM3odR5V1jIAfH1kuqIEUiyw4ZRxXgAFdYThQT8G3w68QEHE8pu4AdviPZXDdSSZqA6SZRGyG1HLCe47osWCRBJDNIp0sppwVflkENZB3ywu0HCxxn5yuZR90TEd8QoGmLoFYdEkpDLgRtrIo4ud6S+skAuVWk0StSGyG1HGiAT4XW2xU1jvIACRgOk0mWQh80CceZaFmJTWY+cF3kupF6cG24FGe6mCZ8JrSWHXBj0sLAxDpswmWMUKofSgSlJHW45yFRGyGpHERZXJf2v7RBG83/wKFBpay+YzgKrRVYX33m1mD4mwHJQ5tef8E3bGwTFFUEy4PQGZ82YxUCodfvffcPQClJFwbSrYA8QlI5iLKh8C0/C0bfBFrbdGFTa099aZnKNLYO2bJj4VEH12ve7yBcgYRIEiHVL1k1hFCSKrxgL3VFpBESyzFuUNCMsqjgLTEJkB9z07U1dTBIPgbr8ERLIbJBciPDqGJqo1Q/VJFiSZA8aQXTTSmDuNKHlSnTbFzkefq6JcBdAtp/SAowMRNTN0m/1Naag8CZQOdIRKqmAJOkYD9YCnsQcqV+mYAVqZfEC3GcI3HwMpRWgw+rkMeijfsO1s0OeoMokFqZdhPNJ/GEHbDpPo465rOhEDh/YPdDxQKkfsRgJT+kwqm1hfVXy0B1IvXCsBJlx3dDYz/sdHetgwkKiTvchN1ubGXUJunr6gcMFErSX4hoL7lYDqbl+CQdZd84QRo1xrf6n1gAQO2wfPqZwNmtBv+2KWVDimLxPzRwzviTIqhqRrGfCYyd/50gyPpXArJY/FGf9w1BcXZE1/iFQDlmLn4nGPj0U/E8mMPTTwVjwF/9US9Gmmp+75z+7QlpG3o8BgCPlADAufnn/1Fzd8dZc0/k418serT9HGAt2FeE2PNErAX7OcDtTY+2L+gVSZ15B+ZfEh0i+EXAW/DvCNKquVJxNPy5xM+G/QACAEJmR8P/a46fDfsVRMfZZXY0/LnEz4bZ53lFMmZHw+9U6nDwCOFTby0IcWOZY2bFz601mDibqfqMAv6WSaHCTTHuSOvkW3bivAaiAxxsftPj+QOxpkIEZVhHTgSYDQWdkyXHMrPTos8QIDIT0FShkvYG6DAr1dXVzxR/cAfYwE2/T+oUPRBPHWlCOMHmxn0MPvpzVfhbExbnCNlnsqXiOZ4AgnOQYHjC9IZUMTQnBoAllByAAtz2uOUOR7djWDuzkJlnNEgGVMCEZ7kTZsrMRPcJZhsajmRm+GQjS1KM5xMLX2q8qYRAk9/1oK15Ti84kcH9mCg99f6CcOmp7kdIMkkFKE1PfD/JD2I8T8iwdcFJhtdEcYDKc9sTyl+AtvlKf5eeen9V+Jt5GkGRfYLUeSOtGcSUAqhOuEJ2IqDVBDqYAeU54H4iiuKI3HwAy4Dux5LAbQWQP6pwRzIJukwQe3VCNYUmO7AmlvQ4rqLiJCOVkDuwhwBH8FnE4IDUIQooDkFKCriIdB4hOK8QkyFKdiKg1YQ5QIxnAIsKZBYhKZCFo9AhyDLNQEkYShGYqQpJow2MUFaIVhPmAHO778meurVCsE3+CqKZaRLShveSvFTxKoEdTMStD+i6ubPX4914N4ZljvVQJ4JuHSrvgBcTFcOgzxB0BVR4GU3mlB49YG1KXgoEvkNGBsdQqYSQuPEZaF/sTwCtKERJ6fU4WO57TI+DZjThJTSZZbwVtxJoF1WVUgmZrzsevCX/FChP4n9F7XqG5eWmP2puPnakRlwJ3wDkp4C/FW6Az8vdDu+6QodixgFBdgj8tBIe8/fee2+SIA3YAcEnBj2thS83+/t8U7vu3X2l7u3BurGtgCcKO/VhIvy37vv3qDB3nQRt+nECrEoukASKMoa1Iyx33vth0SAyA0iKU/KSIkDWqxGWuPHfe9PUdQltNa9PgxdMDQG8ruA9KMudfvwL70NEIFBjT9vyBhThJTSZU3rUIMGjYjUcozjJaCUUGTc/g+2jSR/qI23JGxCE15Bk1hldRBEmU6VUQi3m7/ij5nLXoVsKnJQZjVgXqswGrGzKixhGccKxCtnufU/hlkKOltGHIryEKvOt4wCINZHxm54QMEBa92PdWC/QxAYIThSsgEHuqb3L5KF1L3y93goXXkSRmeNSAwYIMLUewUmWJtXkccA4KHeiH0F4DUlmvjlSAsgyHVQBlQAOuBOEVEKBeAoI0L3zZAPcUGiECq9jok+WNsLZpEY0JX4xAlRswpkTiAcpYZFxyxOEAb/y6UxHC4JwnTkqQveJBAll6jD11o0mLz6DdUNTxpxA3cZLKGCJE+4nIimoEVkeSOllVkUQzmGJYCHKTBJ8fseMPAqKFL4YAW/1+lcGgDLLdNNrkkHjEjc9kZqO5EHtUTvn7qUKCsKhBRqBVCaVHXNu6avQTGFlSUDWxlzFQGUUPyCHEEtIsLy+5UkzCjoNwOFDfoluslAFcCXNWTSZofocOG2UQhVNQSKLcs0ULgLwjamUEBqY17c9IGroRl5coQaGCjpmCVPns3kF90l1zNMHfambinT7C2gjspM6wQm8aVUpIZ2KjQMiqZxUEh3wRgbdv7yhOQXhdWWyTBAkL1TNDabQbaRQa5LU6U5IdOouI8farYe0yVgOjG/kv/O9Ir0RZhr+MwGd+z+LiLNfEDfVPqlHHkaJ3wic4r8TBDn/N3suFjTHyPqHAsN7ifxIMNghH/HzgHrM3PijoblMdnr6k11Mc6PmHJ1+JaCPj/OwYePaOf3eQ1q18RgAuH/3z/9nz/1/2z977m+zTAdPNNZjgfPOU9hzYEzqe85x2s3PNL912vRMcxZTnzkDV5WTV89fU57IjmDKsfc7C82LndmjJx/YXlKw/kxc+vMR5+3N7tSmvxxn8vlY7dCm7O6YHL5wGdV2AUc/lcl1b0Rwhrs3z+32BGTNZX3X6dWHHfpj6gJ2rNtQ9rPXVyFHRP6xeamkPey59hNoS9tL7hF5bYl72mcduVTghVe9s8sAQuK1BR8lqy32K9q5VPaB8tVV7V8q74I991PT7qXid72XmirxYEXmXONqiefotaUfNDuoPz0qYtFd0D3tX1v6ldbcObPLrIdfrk8/sI27UpcrXx2TvVqNZq6xVio1U50nwlh5VaxDumR22WQ9DV295p6ipNZs7igqat3m7uiNz5JdXL90RpPx1PrVm2u5oQBSTis4d0Vvzw8p7IjaEU1pqePcEXNS01LLuRtKVqpoB3UQpWI17aFOKC0VnV8VzBPJOa+6Hlm7YHbZlCxruegm1NpieqmDqGMrO3dARqnrVS9/ARvV21AAKdNlqG7YP1SxFQ57X3ZZhZdADzT9LuvcVw4DeqBtXOWw7/ld1voQW7k8kVODeK+ozjHQ/UwVN99nmH5UrlrCwZ2+XD/sJxSgjBPxaADAz1rWdbRZbaBkQ6pzbVm1HrG4BytfPnLIeOTAJSUzpdUWvnzqtbxa9y3+AfaYny7x4kOuT6zxGE7yRCQfKbKOmi00mDEnFJuZbCMpBJupktot3LESQ7CZ/65xo1JtVkwKvWYi13oIJ9X0mplYsBkxL/47VkSsnYg18kTx2dG+/qZ9bsKIiaHUpF3EsHTJjEvuWd+/SH280vT4RBOh49mNwyqvFksaU+PSuEKre8i10kRlGozZO3XUdOGGEfOSXab3XfqxbKGH3ncEWklNF5rADLnvPphmmyU11L7T8VP0b1gqSzSKMeqFXUtqE3Pzujk0JusbQ+UotrJEoRjja/mF1CbmhtQrU8M2cONXV8FImtayWsuFRFEnk3XXi2IwY3b8TjRpZ6TzSuKxbLFjavJEZF61xO5I5RXS5BmMmB0ir8Yq48COP+4mir7W3nuqLTT5jdQL1q2frYkDzEZ6/HJfUWqmwTfvyNnQr5+XVFmoxTTflm3Mmevxw0zR3+571o38+MNeI/MLbW4pB5JI/ARCKlytARcgDjDvXSjt0gt90593IOVs+v8TovHKzO3zRrN9Nc/7zKYAWZ/i1MOBgnEif9+TFNBZ/49k7I/P9zoTCHhnf63z9OfniyavqV45bFceib8/88yQqp+S5f9TGIenlKfuX/66aiY70EjveA+CC7BOLXvl0O4PgrbeW3EVvLR/8oc7K29q6cOKik9J+5GlcmD2/bzyymqT7RehP8XFVO5lf5TDH1s9xBR5lpS9PsIUWRS4fHYQNrpsuSdLuL4PP2/orv9VBQB4DQKs9vjvg0Hahh6PAcD9oWf7UXNmsQq3Jx83s2WCn2LclP+iY/1aLUu5T3Cx7sbsUYZNP3xjPB5lgt5o8YfzDADUgRAkOzOeYywE3Jou9vAjBZD17Cfyk0DLfz9ViJi8hi6woZDw5593pXA8jyzrKhtu1n4UoluboXXXoRCuVDEdGLmurNcZrWFxTqxvkm8N/RUupmSBKKbU/0tiovmKqhxIFVMplpX1QqOlw+oINMflWWl37uDFkjBRTPWKtPWOgqTp3WDxxqq619fb2LEGYAkDfFPF8XQWjzSl34dCm7AKw0ANsQttqWG2DZOGU6HNXdq60KdZGyAUU6DY4rEee7DWFbtt7MImDSgAw8psSEI+65n3fcBugwdHlrcceu07IuZvOpoQ9xsoqSAPRX4oe21vwnLkr3ldM/ZmHgRh40VjTBovU4V8qayetPoupL496JnGsQDZ5uIKzhQ34uj3oaCO7AUZqTTK2jYAbNvgdTf9kmZffBkvonXRToy29t8EtzgpXuellanU50tAv5ZkYx0Hv3kN1YPyHH+TUpFRNCMKwIQ4hGkyuzKbfUFUVYlSd2PZFRV19IkuVqesC6go4XtxqIwVVP2+uUY3wpGCPAMyNogGxzltyD7EfiKlchwOWMxlGfg8uoaFN/uIS+0n4pD6SDBgJAmgJNsS41vyUkFN3zfXZkgun9I41ES2gOMbokshjqHtWJhcq8IkLnWFsC6c4rjHrERsw9FSv2rF75trcBXHw8RECdsEINLvUYSZDCEq2DYcuVxXMc1O6mBRwcbwe8U/CHYpHFNeV7ASsQsHtlBTqfg2GsBXgjRODEeD+mfFPwom4Jdjf+vVo8lYzluDfZ/Y58CvhTUSOtNtfZVpN71d2P0Fr5KV+BCviFwujT5gmgDJTII3YS9BpLoCj3Mv5LsTaNIzvkz8g2CXwvchKtgm7PyCFaZo+ytgnwO/FtaFuBMrYIoklTnJ9mAnQeQCmDWgbIG/UfyDYJfCN2GU8H04IausfqiSbxowXRy0N+TNLFAUBZg+DFVOS8Ee05bsEKtiQT3yLR7QUJQbpFTdoSiNFgaMahcjkwoiMkveA/MbrldlSuYswr4y7I3zQxEjtx0ShAJO+1ZHVE+CPFE59BiiLAfWhVIgj7IRojegXOSQpmhWE2oVA5kCqSuOFsBNnM7UyOZFUpJtgfX91qs2cn35prEJdiiizRjBXvBrRlTxqbHIFUdXDnRogt0kku6CR6jDEUAuksdLajz5SLLleQwZOTJaBDyqa4gKtgXGN2mw0uhpLV/SfiK068DEQetEQYyj9kSoJyEZBeWk4cBsIbA6PncJXArZI6prdMt9AdIttEXoHTd5tN7gUZWIAtmKRk6yDfhei5++3oydWomvDvqjQgFpoXAxOAFqwPQDLhTlRGLKGKLGg4NLoXp0aLVHrnxAt9AxImm0RMCoLmGU8E1YrwC4In/NIAUWihZh8MqI60aygQxrQ6fgUgCPBapykRR+QHeRwRlDhIwqnTBVyZEkkZNsPes1yFezLxs3paFdw8WQaiPk6MjhwjDKkHGRmIUiaRW5aqUtCsXUAM1AEEa1HSBNAiTZatYL8eqEbxykYC9efhbghNEC8LgEJ6mCRgQpkICem4A52guSrQDu21nN93XwfowEzHv8vy/QUG0EjYLNoR4XINUmO1SJIhXt67ASsfrM95UYnQyCzXyYV3QRvAVjxDq8j+SvHVfw2JlRwt98Cy9iCwiM/yl4+UGMCkxIsAJ0IHnsBfdCP7Y5KJIEUJKt30/EzkgtdPxLofDVOGZH3yiKmNGF5BYo5xgjVoEURQfeCxqbqwDFCcAkW75P6gmjX65LfM8okbAERTlpSr5l70Qv8I7wGBmbgodAAFnfZ0/28VI5eZNY6sLvGbMa3oIZxggWnbiOWy/RRcy8t5hXwUrE8qPmrLnusgZvAwrN28qvFno89BJk5c6WeT/yBUg+vQTxVkawehlGCd8DY9zcNbAJLwGv1kiTo7j7dvG3oCWUlGOP87Kct5p9Ae84yGNbcCRRcJItfzQgc64xLslmrAS8WtNjIIGA+D73EyFRswhFOc0nHF69qKc9sZmxHi9CQo1ClG/0yINr7bAgqX3fXDcwhO8ZbDC4bwEe3yY4alYhKS8trYinHRkJG5tgBVioMUiSbfHY6Ok6hzYkDDJoYMKCH3gl0DaBSCXfVddUR8qtbxMYNcvQlJd+qxPttDdZl42dQU2mgFpx8fth2ZurxowsPqmgpMmKcv8+lFp8MKoYX+2Zl4IeTAIpFwRLV0drxBTbYzeIGo+PgrnxejHhUeCESbAZuAZ61ogUQKlQODc2N8T3CUqCdcjK2eYIbpIaUdaXwIavZFRhkURg0vd6T5FjbYIVd9Gatc6ZpE58nb7YfVKjH2c6sS9+k5nNAZbgKQ53BHmctE3EakKGDweBJtn690ptb7wF/kagXyveBcsCgmMKWkcTqkdrwzCjh7ETXoPrk8i1W/sRMByYpWV0MFQU5Xy6Sru5hyERHfgCWEZNIbIYSUtCGA4M177XR9uyyoq1gTUzxYbBo+wzuRA9iB59d8KBFxsrGRpxXY4OoMsog+FXIBDRAcqobRCs2ZDwCmM5x2b1gY7qBMFaUTw2MhaCyt1Nw1kPjUFRtG/2EUvqjdBGoPc2RvLYDNIyish3DsdahoCpOEPRvttHRysqICPqAKUIqjxjjOhE8cgqUiDJW0SspJBCqf4io4QvZnduA9/j3mUeCfF4aAl+HHQAROWYYIw6isfaDyQFq8RKdMLroo+WgvjHeC3jFcZWYNGRgD1eOh66+jkpAETl76wgWCeqR8t/y4RP2Dt2aVmhgtEByiiGPlo1YL3wehU7f4YZnUdukjIoVxygHQ9dYGioyh0JShfN2SVganIl9B9ICilBjOKoErEUdbQagIFNzQ/BMsK5ft8LqATJLQtFy1tNFlM7Hhq7qxwHHZpy0NTIImlDx9ppcgkeiYwkAFhFctkK6scRaSLKdEMdLTiqxbGBRS/gFcZajs0QBNzL9P5LqmWGCtSPhy6t6DxEUg5a2WGc4LV0jCQqBfeIiaQtE0guWXhtkjx5pSCOljSqfd/B1pJlGNfCajNkkZPqsD1ynyA1AbTgvmFiQDMyxfrC7AZXnkoBI0mar+RUMUUE8ShkB8kobIrGmm5RYyhoo8VHtWMmSMtO5M3VE8txy5D93msd5qgru+7trSv3tO1e/HM+ASrFKQWTSJdr7XHfce0sFU3/RV1dyYjfDsjk7xH7c8MJH/YjJQDgNQiw2liJ18hJ/XDxz/+j5v5Rd9TcMIbF57hYV2O/GdhPBm5vfi/2LjP/zWCMXw38fycQB0HE1Ev414EAN3S0Yf9LA7f4ti6mncn9sd8M/JoE/y5BcB15IvaTwJwh/KPHhYfGWhVFLv8Ytl9SHmbmKJE+6GTyMX3zDyEciQn4MX9DjTi88AcDTj7W7b2LvQDhBNWA6YojcKixj9A9YPIBA/myBgHL8f/XdtPaQv+GztThee7CP6L//CHAgziit5dIKCFVQRRNXtKjhzHi+HuX6YuyxfizY0jih31c/0iRSvW5JlSI8dxiHn7Q1ASsQewUcAEXgswnhsB4fnFTbv+Q20EMl/D055Kk+flkcYbFQwxSwBg1BhIMJjTQC+CdL/Ri48nl6OEnxUkNq8JemH7Cq2h9+ov1D8YYEgbOK2QxCI/xUGONBAfOhHRsPNGwZ8wegnWKuMzAoN97fPYu041nPDp5X+apxg0mihpEYN+xEiFi8bjDZ0IUw+J0/AeAHEk2Opl1fIL9RPqMmPEF2CzuEdq7TCfC7h5LiIeb6CEJ9WjFX2cfd4g8G2uY1D3/TPnTjz33BDwOzkYv/l59glfUKRiMBwEvYOTNwiLT6plmEEwF5JpnvAt/tIkqNoBCj16Sq+f6qDkgK8g9LCijRAIRKvPquSbqKAnVSjzSOH4nbgB2FjEwSNmQmV/4oQbG0VAZGCSigbw6/n4iXcKA7zoWI72VhuQOJiqMN0/z3mWF59kfPzzxS6oKCqmhk174aabwPPvHMBlyNq9hgInE04uRmU3QVeD0GgiUQNRDZF3S23bY/TWPLTw5zMhKkBFILEZZDK/NiEP8sEBVryZ7B45KLs9q4NuAEUHB+pSZUnCHzy4dt5hIDKkfA35IcvvK1TlV6Q+qn6A92cd/kggAeA0C3NCEQtMWu9k1/ue/zHb5L68am2/Gqb5uIVfI2MptyNFa19FktoYTdQ5nSi0/hyiTeQJ/UWKqN9Bp/QNO0suqHE68Go8euCiZdGghzKvKXcWp1WI3hpewzj3FZ57IHvPTJVIINjOzxmMarVqRyi9491o/2FyDGTcaHmZm20iL1Uwx3fQX3XN3rC2nTKdBrSWYFTebKkavZXNDxsGpIZUxWi2pYDNiYjz+K0J1BrPGVqB0HyA09qoicG7i+mOhO4FPobtVillLfhYfMv/zsCo9PjHlIVLScwyNWIvFiBlafIrcpZ6ge8NS95A0a+yHVRI6d6PmsddO9uOVUlzH0GxpPdXMpzx9naCBrgktp5zIU55tlk0HgUx2n9SxGrw7EkIbqrhLkKb1lMA7EkJFEaYkWxtRSZGlNZWvOxKCnh2DoNGps9EXXGuipaZdg6T/Ehxb9vB18VPFfwbz8Eky2DFVs5bgbB47KUfaPFelB87VvQFmZszWrCI4m4dN1jXdhmrKL4LF7zzVYMSMeOpnXVGBSy+QDo1Hwd6iyKPlzm6zbWlFZaXyzLFzCpfoakASt6PS+4xXwfvbXV1TmRf2T15gyi3bmBnP/gCAijg+7h4gWXdkSVjKyN7qZe0kwDokqLwwl7R/xFv+ElM1/HZ/9UL2TQAIvHDkirJ2q855Ivm6txgIr125fEJ09KboIJ7QydZWv979c8cP3wLwvc4sAv5wLy27ndCALzYs0Sk5em8nn8aLwDw3ILHV7PXmJvdrAEr5YnT1NxR6/lzZsvzzqy4OQGZ/5H1FQvjZiqv6o1ySZLoTaz9PTDu897Ba1Ojr3u3MDJAT0/Y7FC87r9O79VryRAKGu+myBXCxaYsLrTYec13XNVWyf3j8HzV305g1N/5nzd1LZc3d2o5/Gf+z5v75f9ScWWwqeJ0Zi3Ndye1JwM1sT8HrvBxscbsrMfbP+uoq6ykeFgrecRbh7+VYqX7LHf/ylgvxcZl8XCGoV1X5zmTwf1UD52PDOyyOtfJ4c7CLSQDZrH5WzI52Eb/neM/HxPSHnxS3ONsruU/xaTncxbYDvJHkmaHvtzZJMjEQe8zueD7yX3Ys7qZ9UvM1qivfuqvbzW4Xm08Q9oOBF7FrYs8l/OynxL82AEAD2lZ+Tfw/57SdtWtiNzEipkL5NfHnF7smtjVf3cU0QP0DehyqcajA+VYMPIaVSGbW2NtlpDc6B85OKFiyXfMg5HA/tIyalK6hGKNcMjcr4g253VGB2wyDB/Cr303KSO3sIYnIQpVd1nBfvkxkA8o3M6Fi1lmMpiSjHugiCCX2eEWIY5S9BoWIUuShIMNaLtk7jErI3zmGjvR4x5XiLmO6lqe2oHjqMIPqYduAhkGRpzid1ZiaAzGI2VwipQElD7C+glAFdWrgMCMNpoUopTIUiGrJXEQPNJzgRE21ArfT3mV6wxJlTrbLkTMiT2JS42ARKLZwTMwAmTwHaOOxDgXFQSVhHvhKFIosycMg1TRP9xQpDUNRqwAZrQKOPGmpCtTVK3B3EflKn3uE42jzSf/xNgMRs6pACuBjYxX+PTkDeYqAgDgsieYBlVcSWmNAby9YTSfjipTaUECqJati0NOsQCRKFbjPcNgPHLitjSzt3RI5L9yyKqQAOuX/npyrKCUyq3hgSEJbyVJz5KpS6kNRrsCc8V7CsSc+BpBiBW4zLBDBgwOKZP94m5GY3N886QCOBEJ5SFxNcMkDgQttJ9fUgDdJSn0oChUg35O8KjnDeak0rOFKsdF+IgoxSjhk2oCzLTHZJisQBa0gLcSYVklN6AKwAklKeShKFQDE+zWFjBv2pNUnU6/A7cV8pS9gQQF3NejbXwFmZB0u6SNoQlcQSHRIUqpDUaoAkW6jgWG4GBLVCtxvWInAzbM9oHurSOeXwsJCklIaimoFxKHXwlnACeBPqhW4xbAKfgyS4Rqi0C1xmXIF+sDprGAYF7kHjn8pAPlHmqyA3lEcYmzAHJEdWD+2AVCLJKUwFNhWsWQ1nAJGT6JQgfsaVo6DYZKU60LvGh4NbPSKdMHZVZxA22tHzFqxfmw/lKFow1YAqxEzYOIlXiludNwsSjjGyyhCr4tSsjYM65rAav1OZFyY7PhUDIVxRfSfgQiXQg/V/Lrg07eEzYx7H3j6emAlGLcjUcE2JYXkqbHLkoXDEb7JUHZJvTKviPiKQHI9yuy6n4gQgfV3hg2/ARkX5mXtGwLLBmXwuPVwiMF6M0h/xU54H4EjtIYodC0hSSkNRbkCbZiWPBpCBe6sPdmlfhICqNLnvhujgdHP2J/CUAi21uCU2s9ABKECdxmGiQq2KXZ27DLUfgYiKBXY9WISQGUYyi10pafgDBmXxCCjhii0GyZaklIbinIF6giWaNrZIEgVuLHgayihgl0Z78evgnXgSxglkDKC3XFI13oDCEnmV+clq4gmdD9qQ1GtwAKcjK+QZ0IFbi3oGoH6aVBgo8RWIKcYsX3bQEI7oM4lVCmVoVD/oBN03ZAJhlKBW2ufVHFSPeCjyWAsC5wF7IpNODJbETyKaEJFhJkNgogWpVSGolqBLgYmGCTEhArcWwjr6j/tZv7uWbcBV8FmDJllQAVRRRJaBVTgrVUJBTUnKkNRrEArQbIWeSZIFbiVoNds4VT/p91M3kk1mJovR/uphoDMKu2bu7eKIpSUXCSmKJkUGNE3h4YkRR8KfLZWMhMhyvK6RqkCdxQpgOCp4592MwsyTyARmgIu6+2CaslG8c2ytzxJO+hezYM2deFrBewcjQMemfFCkSIOhUC1ZHpukrxBAmkRJ4u1Cmy3dxmzcvj77GQ5JNlYkgVSRNRqCqgsp7ohRAlJMtjzZCNPayCGBA2XisCs0WC5s2hNSmUo8FIvmTbogyxcH6NYgXvtc2BiepyIILMjSYSmAMqS/5U3z0ZhVjgSgtOS5KjmQa4xLDlVqCVRZgCJmpTyUFQrIA26JNxFGzYw5QrcQ/9bcneLtEmP7QaWzCw0s222FwsFUzCkAwwAl9JqbfGIzS4rXeBlazfK8S8NOZmZJuWE//2CsN3FHv99MEjb0I0uAHhmpx2AJkn5WTj+BR9CL0n5XYA8LIYk5aO/ImJ/aOHpf2ZBWrUnYYXdBp7sfXq8RnZZ1/HP/6Pm/vfjUXOP/+NfHt3jX9x+MnCzb/Ri+ub2k4HZTwYeZr/EZwS+of/9gv9oYJ9/77JPWv7fOQCg+dnPBp//Yl2G/2hgvxn4V4AQq00fpjA9tF7ICK98EOVUo1H8rbJgK33a4lh3yE7cKKIDUqwni/TRTQsf7TT9hMC5zsLJjJBUyrbsDfmE4t8RJDjBks2YSe4AG3iwyJESoOnJTRDPOpBO5ZdcI0DJFEFaIBcOaqA5MQCSZJIDUKxHCzR/yGnCbs2kHEHpBXSqJzZjgXMabgvcDkLP5wDwbrITPNVKkhQHuFifaD8R9YF5gLsezk+oLhISQ1sBqSh18AyK2lK+wgZQXQhOOJ4kKQ5Qse5V9NoyQ/gL8koJPgE0IxLAX2EDhYITtEYFYw5gkR4xLMUBSQyjWCBCBgQIu0XDbbGvsAGb2ljBCVqjgnEH9mSR86CLAZHPviRz8AyqQEz2KdlJA/6COcDFeqqOfwEB4Q3kWYOOA4lSthRIGm1QCk7AeQhz8KgxCkQBk/FWsvoqXiWgA1Ksj/SKJMhJhwsQIbO6CoYDZKyn7MR1qLznC5ACAgFBT96RSlYiIdjCCZWjEKA7UZ4Uf0RA4imD5wK9w2OM9TBbEKUaa2HFeqj2STUZNwiLgULw1SG2SqBdVEtQSQLv5dlClgOafz6kbguYLYiify2wWM8ZKAoAPnf+DhBbEtDZWnCxnizE09z8+C6UHcC2CPy0GlasT7SfiAppp9T8pPM3ANpi0NNa+PKgAWNEfEr9Yh3IFoWd+jAR/lvPFSE0PWh+1vkdWBFgi0OSkmHtCMuDhbCW79SM5Qi2NHtjA2ix7sLjX7wRKTDEmyxmvbjGbEsAJ2UF70FZPtDFVMjQyL4wlWFigDBI8KhYDccUnGhfSgN5+vVc4Qoh36k56yCwKOgiirAbQDLKLSqIEKCPFQHzwAWyKkRUMJQfIl7EMIoTjqngYj16IB1CgFwTsWASWctNuE+qH2CiiJhCVACTiw0QnChYAXu0oIFgUYemhEGyJBB86yk4UQrmDxxwJ/UJEAeWCYXIAYJgkkyE2FIJ4IA7UUAeQiCeLEAg2CxgQHwmMCglYgoOCJcUEpotFZvwghMPUrAiT9P7YZGflXIjUxl/YQwXn8ZyLmlwVFsQmGU2Y9QJ0m2sYDYE7PHCBWzKkCk6LODsIni8CclXQrYFbivJX2IEyizTTSoYdoCLdad+7IGqDQkvcMsjCXIUPNJaleRGIk60RVIPqJ7FSyYdiuDRCCDFeqSOfyEBgol042UOATZbUNZC3EAVyE0QW9gdJSlmThK4RDgasQNcrEcKOm9gXZ9ekzSjyafCwsIE5Ru3JQQfVqeaVKIreISyYj1Tx7/weyJSSs1qIu3eKfT9fBIXOSJEW6UKmOlOsArXXJJi3as0YvofGtyL7/PtRhcAePyXuA2Pfzni+afy8S+TV9bcP/+PmjsxsubG/6y58T9rbq7MmrvZGP8iwDNw9e6a9Wfyupq2os9r5J8X881zu+0Lmm+a6BAxeQ0CrDZW8qmUk3ozkv8y/mfNecNRc3Nl1pzXyEl9/B81N/tnzZ0ao8vG/6y5J69Rc1Nl1txm+g/43ZJx9No25Z/RlP92m3KoqZfd+jXvPvjvjNb/fwGt/1/X8l8+svz/n3X8R40EmCcy/vP4rwTLuo42qw0ew+IXmIcor2E8cuDyD4HjsO5b/APsMT9dchBG4WmeazDjjybdc1NW7CtYS9fAODg5DLAZsZMwyk773IQROwtiWyJe/XMdhsWSxm7C6jDAksSOwri1qE0DXRP8Ba0tEa8Oug7DktrGrsLqMCC1iZ0GOAqL0wAzvsGwWPENBhix0wBnYXEakMQ3GZZt7DOMDuM1FWtOFw0+zlXtzd/6quC7r5V7psqp45R55or5runbzJZ35qr5XWrtikgq1pJT0mnOt9w05bToW/UacaaDd+lb77PKhPN9uwyy6EveONauAxd4gyvGM0AbapbkUyTWwFKmMy/OsIqhnLFnUfumToGdYQw05fnzWMKwipEN8gWVZRt8iRneujRZs5Q9AHfcrVnJvlYkyKJjkKvRZMxMgRTDLExhZDeEOCPdEOKIYjtCnJCFLS/5+qb2bAlxQDHeQhI+dlOI81Hi8hKuB/TmNl1Ht75WG+rCEPD63Qw4QQDFoJfRrK9VhrxI1uM73RYhR9PM7gxxONVlX4ScTGxrGI9kE7u95cnRgRb2e5llcoNLTdkcxrnENodxKrEmiE49vtPNEfJGxL6TzQYxoMT2h3GYDaubtevswWIVxgXn782YWObiRvhjhxmzV0tvGG62DLdki33L1bzlLHNxwdWLF9Bi//xiCpAH+wWArcOYYjf4Ld6zxsWtsHJs9m/0Su9ItNXQ21fLuQ9Wzi32/S9n0CI8ejBfDb3rxpdzG6yc2xp/2NX44c7g7xuh5dwGK6exzOt+oYwWMZrwxcA83YPbYOUw1vjSX0MlMB/Znf7KcNxs7cVug5XDGFf2QtzAfiIHYbDzkWdj3T6C7CdyG6wcxhCR1zPGuCZ772wSl96GMIPFuLJ+MG1CTnDLe/n3p13N58Ji3BIrRzGE3Rq+lFti5SDyXl7+/zI+FX5bACIvHwy3xFkHkWILBXtxS6ycQ14+FPz6gBYYXjeMCvbmljjrGF4CaB0s+LGtQcVaYCpHrmCIIhPce0GGiFvp0T+wDrOK3FyzA93McegUXjfs1ZAdxoGsOVyErHnpLUO/cQqJhNkJN8JlIO/Sd4SkG6RmRHjQEphpoKJHupni0CG8rvE62As82ZjDSWjpKALUCbwUEMOedcgyFNLkrOAR63CCswICIUe6OcvfTwhB7SVKf9ppgF7PTF2LpiTClAOhnbItBJhAMSFg8kFkwIxiZ5AcxSOvTKPcQ93McOgMXtd4AejjfXlMgFsL4FaTEgGSn6DTJSgAyCUSRRkeAkiO7BFb7ZN7qJsZDh3BcVdej6lnfJ4JVNHWnaQSaDKEmy4hFcxGgaJcKGW/m0kOHcEhFHZAvAGCZgJKSDVhAPX2ijGMMlSGiPHKYLncNja2380sI3DclfWYCFFQQTq/gMEYHQCPa0BaTC4zwWHkdlxIB+9OQSdracYyvjfcYz8wsQ90M8kAHOLtWIweghHLGG2A82UIDiOA40JucGYPoHCYWyWYEKqrAcljM1DLQDr7x61fgtFBvuXSi+DFLQSCEatAikYH1gK/YbR/COo18AbY7GgZQka4AUlMRiN6TU/DxAj3x60viVkJU2GGMRZUUCemY9ZKKMXMBvPn1bIKowqfiMQKGn5AGUAZ/Wg+SzjGLwIYYf4UOWqBbo2s5S0C4CCfsIxFsMociRcZvJ83UiFwFKwBn6g7fkPFrBX1dCAmQjA77y+ha+vAKFgEPGUlpaUT8XSPYD1WCRQFq0AnlH+l32pEOx2LmQzOz2uvIC8BLUQBlzLE5xWT0UgItuNMgBDGz0uyFiBsFgMMZHGFv6oRZX0wXlwwHivIS1M7wdMOBgLLJypjCTFX5lRMfPB93q0F8SZIFjBMQ3nYrh5Uj95HYDuks33exEUZDXiREAD5QWX04BKjgXFdZi7YjlXEusD5wOZIAlngGyijBdWjHQzwwfV5gZvBGX4BDALSmY5JAwquYwzrRPHYiV+XFxVMx4Qx8BtsY2Mkj4vQy5zjitrzRcuS46cKSAUIlZsJRjQieSSV0SC2//5YjpXHJlzF4Tt0HIiGH1AGjFFG8ahVBs2emFzMYJ3lWEWwUJsxlQEeO5lMWeQfUAYMa4R6lCszK1F/iEvkaZgKvytGTla846MP6Wd8gY6LtPyAMsAyBIxpoB5rlXn7g9C50Piz41iXxsitF6oFBMOcD0lcZSV5we/+eYoINKchMqB3+GYaKEfwqFUGKJFcgPWxbmaY39hCKi0OtBjLmBB/xheY1VbECySAlCQfz4HwGscQ16B4lCqTCU0uiMVj3UwwaFb9CedgeBKCEoW1Pmz2lHjqEswLSYI8AYHKuQzqPYtAbgWPpDIkfLALGmu6xRx/r2EDpNh2d9yalfXJwtBsJ+jP+gIsY8GdyWJlkBJRbnUmw2/FaDfGcvrT49buI1KqABvMxjYSXu1Owqu2j5kJVmNbCad2L+FU9xJGY5uJmFpMZPCpuwmbse2ES7ufcKn7CZOx44Iv9n34Lybl2FjsXXicSExl8hrjX3z4WFujcmy8htg78OuVWpU34OOwWDVbCbPy9nsse7NmI+FWNhIhDU3qe+2Be2hwGeIVKcn0ORVvIrpr3D7JzmVcaK64fQomQrQ25HZf0VpjdmPRWfF480lekgytDfmdRW9DNxauxSkf5E/Y4DrkGL+XsG0cY/cSvsUxx/8TNvgO2cVvJoybTjExwrm4xU7Piw7OQ31iZoR14xU/PmCDd7GKnZyJE95DRvHj86JDVwx5iwv+rKKlzxbYO3A7OjMlmiM+pRGZqZA7VmcdQBFSEwQHT9XAjURjQvmyhmYqkX6JZPgcUkSPgAEO/id0aI2Bz9FATDoCf5b0AzxFC/wekzfyi9xHdEXw180g4yyWHDxzE8Jbdwsc/DwhWhPyifyMTeQIYuE1vI+zrwnRnpBHSh+HwTO9Refeg4DIYw4miDNGH0c/z4jehPLbc+fztyJdMfytMJx4E90c/TwhGIhGXAD8wWdjpkVTQixj2H6lBogPyLSJGQHBKAY/E0WfDzCCgugD3n1C4is+HjMvKIQUM2xaOjn4eUpgMCKRVhYfEFCCg2hEW9lnYyYGh5BE1KWPc5/nRHMMn8Kov9XGudecICEKkZc2jr1mBYmQQOQlPhYzM1AYgejLp2LaxqRgIfIIBNo95OPxogWLkDQc40FW8aHYLlkBw6jDCPk3Gjn0mhY0RBpk/1P89Tz4WMzkoBESh2Gsn0O/NC26YqSMMbTyRZx5zQseIg2gwmJ6OYFIt6FUzrwmBo+QLhy9L1kOm9lYBY/TrokBxOgBr9jTai5g81/wfjMPZ04wO+2WA8ToisCMoSvw3mbzlIbeIHKLSYEJ97HY8HMybZfU6EiI7TkmrfL8Ja2ZrEgHxWTd5LDc066Z0RJD73gVVgFEzWsma94RDemG98Ycd02NfogaTtJExQRZ8FHTlXA78pop3Tkuixe+ngfsxpI6YYrTrrnRAvO1jD01IllV5u2SG62uK8f9PXLgN1/MuJMjkNVl3i7ZQaa+0LfsIFNh2r68+JFGSQs90lhn5uT3CYJk0czJbxMMYSPtvhJFghia0usoAsc0euEIHWnylVhCJ9TihSQxNHN6HUv4SHMXnvAJNXbhSQbNnK5EFELS1IUp+QtNVmEKItPOhSrxk9kqZGEUauNCluyZySxkyd7r+89m4UvuQpNdCBO70GwXxoQutHfy41EmcqF5p5AmcKHdkzqRNWkLTTSe0YlZCzF59kiSCrVg/f1rmZOx0NGz6VTfMDfoBCjc1KCX2JM5AWQObXl24Crd1JDrcyhrAkDv0II/p3lT4x2l2JSv6fHf+M/4z+O/8Z+HTxEA)"
      ],
      "metadata": {
        "id": "ildfgBvTFNHK"
      }
    }
  ]
}